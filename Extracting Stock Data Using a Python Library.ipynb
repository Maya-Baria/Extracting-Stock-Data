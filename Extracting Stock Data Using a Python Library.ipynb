  {
   "cell_type": "markdown",
   "metadata": {},
   "source": [
    "<h1>Extracting Stock Data Using a Python Library</h1>\n"
   ]
  },
  {
   "cell_type": "markdown",
   "metadata": {},
   "source": [
    "A company's stock share is a piece of the company more precisely:\n",
    "<p><b>A stock (also known as equity) is a security that represents the ownership of a fraction of a corporation. This\n",
    "entitles the owner of the stock to a proportion of the corporation's assets and profits equal to how much stock they own. Units of stock are called \"shares.\" [1]</p></b>\n",
    "\n",
    "An investor can buy a stock and sell it later. If the stock price increases, the investor profits, If it decreases,the investor with incur a loss.  Determining the stock price is complex; it depends on the number of outstanding shares, the size of the company's future profits, and much more. People trade stocks throughout the day the stock ticker is a report of the price of a certain stock, updated continuously throughout the trading session by the various stock market exchanges. \n",
    "<p>You are a data scientist working for a hedge fund; it's your job to determine any suspicious stock activity. In this lab you will extract stock data using a Python library. We will use the <coode>yfinance</code> library, it allows us to extract data for stocks returning data in a pandas dataframe. You will use the lab to extract.</p>\n"
   ]
  },
  {
   "cell_type": "markdown",
   "metadata": {},
   "source": [
    "<h2>Table of Contents</h2>\n",
    "<div class=\"alert alert-block alert-info\" style=\"margin-top: 20px\">\n",
    "    <ul>\n",
    "        <li>Using yfinance to Extract Stock Info</li>\n",
    "        <li>Using yfinance to Extract Historical Share Price Data</li>\n",
    "        <li>Using yfinance to Extract Historical Dividends Data</li>\n",
    "        <li>Exercise</li>\n",
    "    </ul>\n",
    "<p>\n",
    "    Estimated Time Needed: <strong>30 min</strong></p>\n",
    "</div>\n",
    "\n",
    "<hr>\n"
   ]
  },
  {
   "cell_type": "code",
   "execution_count": 1,
   "metadata": {},
   "outputs": [
    {
     "name": "stdout",
     "output_type": "stream",
     "text": [
      "Collecting yfinance==0.2.4\n",
      "  Downloading yfinance-0.2.4-py2.py3-none-any.whl (51 kB)\n",
      "\u001b[2K     \u001b[90m━━━━━━━━━━━━━━━━━━━━━━━━━━━━━━━━━━━━━━━━\u001b[0m \u001b[32m51.4/51.4 kB\u001b[0m \u001b[31m9.5 MB/s\u001b[0m eta \u001b[36m0:00:00\u001b[0m\n",
      "\u001b[?25hRequirement already satisfied: pandas>=1.3.0 in /home/jupyterlab/conda/envs/python/lib/python3.7/site-packages (from yfinance==0.2.4) (1.3.5)\n",
      "Requirement already satisfied: numpy>=1.16.5 in /home/jupyterlab/conda/envs/python/lib/python3.7/site-packages (from yfinance==0.2.4) (1.21.6)\n",
      "Requirement already satisfied: requests>=2.26 in /home/jupyterlab/conda/envs/python/lib/python3.7/site-packages (from yfinance==0.2.4) (2.29.0)\n",
      "Collecting multitasking>=0.0.7 (from yfinance==0.2.4)\n",
      "  Downloading multitasking-0.0.11-py3-none-any.whl (8.5 kB)\n",
      "Requirement already satisfied: lxml>=4.9.1 in /home/jupyterlab/conda/envs/python/lib/python3.7/site-packages (from yfinance==0.2.4) (4.9.2)\n",
      "Collecting appdirs>=1.4.4 (from yfinance==0.2.4)\n",
      "  Downloading appdirs-1.4.4-py2.py3-none-any.whl (9.6 kB)\n",
      "Requirement already satisfied: pytz>=2022.5 in /home/jupyterlab/conda/envs/python/lib/python3.7/site-packages (from yfinance==0.2.4) (2023.3)\n",
      "Collecting frozendict>=2.3.4 (from yfinance==0.2.4)\n",
      "  Downloading frozendict-2.4.0-cp37-cp37m-manylinux_2_17_x86_64.manylinux2014_x86_64.whl (103 kB)\n",
      "\u001b[2K     \u001b[90m━━━━━━━━━━━━━━━━━━━━━━━━━━━━━━━━━━━━━━\u001b[0m \u001b[32m103.1/103.1 kB\u001b[0m \u001b[31m19.0 MB/s\u001b[0m eta \u001b[36m0:00:00\u001b[0m\n",
      "\u001b[?25hRequirement already satisfied: cryptography>=3.3.2 in /home/jupyterlab/conda/envs/python/lib/python3.7/site-packages (from yfinance==0.2.4) (38.0.2)\n",
      "Requirement already satisfied: beautifulsoup4>=4.11.1 in /home/jupyterlab/conda/envs/python/lib/python3.7/site-packages (from yfinance==0.2.4) (4.11.1)\n",
      "Collecting html5lib>=1.1 (from yfinance==0.2.4)\n",
      "  Downloading html5lib-1.1-py2.py3-none-any.whl (112 kB)\n",
      "\u001b[2K     \u001b[90m━━━━━━━━━━━━━━━━━━━━━━━━━━━━━━━━━━━━━━\u001b[0m \u001b[32m112.2/112.2 kB\u001b[0m \u001b[31m19.4 MB/s\u001b[0m eta \u001b[36m0:00:00\u001b[0m\n",
      "\u001b[?25hRequirement already satisfied: soupsieve>1.2 in /home/jupyterlab/conda/envs/python/lib/python3.7/site-packages (from beautifulsoup4>=4.11.1->yfinance==0.2.4) (2.3.2.post1)\n",
      "Requirement already satisfied: cffi>=1.12 in /home/jupyterlab/conda/envs/python/lib/python3.7/site-packages (from cryptography>=3.3.2->yfinance==0.2.4) (1.15.1)\n",
      "Requirement already satisfied: six>=1.9 in /home/jupyterlab/conda/envs/python/lib/python3.7/site-packages (from html5lib>=1.1->yfinance==0.2.4) (1.16.0)\n",
      "Requirement already satisfied: webencodings in /home/jupyterlab/conda/envs/python/lib/python3.7/site-packages (from html5lib>=1.1->yfinance==0.2.4) (0.5.1)\n",
      "Requirement already satisfied: python-dateutil>=2.7.3 in /home/jupyterlab/conda/envs/python/lib/python3.7/site-packages (from pandas>=1.3.0->yfinance==0.2.4) (2.8.2)\n",
      "Requirement already satisfied: charset-normalizer<4,>=2 in /home/jupyterlab/conda/envs/python/lib/python3.7/site-packages (from requests>=2.26->yfinance==0.2.4) (3.1.0)\n",
      "Requirement already satisfied: idna<4,>=2.5 in /home/jupyterlab/conda/envs/python/lib/python3.7/site-packages (from requests>=2.26->yfinance==0.2.4) (3.4)\n",
      "Requirement already satisfied: urllib3<1.27,>=1.21.1 in /home/jupyterlab/conda/envs/python/lib/python3.7/site-packages (from requests>=2.26->yfinance==0.2.4) (1.26.15)\n",
      "Requirement already satisfied: certifi>=2017.4.17 in /home/jupyterlab/conda/envs/python/lib/python3.7/site-packages (from requests>=2.26->yfinance==0.2.4) (2023.5.7)\n",
      "Requirement already satisfied: pycparser in /home/jupyterlab/conda/envs/python/lib/python3.7/site-packages (from cffi>=1.12->cryptography>=3.3.2->yfinance==0.2.4) (2.21)\n",
      "Installing collected packages: multitasking, appdirs, html5lib, frozendict, yfinance\n",
      "Successfully installed appdirs-1.4.4 frozendict-2.4.0 html5lib-1.1 multitasking-0.0.11 yfinance-0.2.4\n"
     ]
    }
   ],
   "source": [
    "!pip install yfinance==0.2.4\n",
    "#!pip install pandas==1.3.3"
   ]
  },
  {
   "cell_type": "code",
   "execution_count": 2,
   "metadata": {},
   "outputs": [],
   "source": [
    "import yfinance as yf\n",
    "import pandas as pd"
   ]
  },
  {
   "cell_type": "markdown",
   "metadata": {},
   "source": [
    "## Using the yfinance Library to Extract Stock Data\n"
   ]
  },
  {
   "cell_type": "markdown",
   "metadata": {},
   "source": [
    "Using the `Ticker` module we can create an object that will allow us to access functions to extract data. To do this we need to provide the ticker symbol for the stock, here the company is Apple and the ticker symbol is `AAPL`.\n"
   ]
  },
  {
   "cell_type": "code",
   "execution_count": 3,
   "metadata": {},
   "outputs": [],
   "source": [
    "apple = yf.Ticker(\"AAPL\")"
   ]
  },
  {
   "cell_type": "markdown",
   "metadata": {},
   "source": [
    "Now we can access functions and variables to extract the type of data we need. You can view them and what they represent here https://aroussi.com/post/python-yahoo-finance.\n"
   ]
  },
  {
   "cell_type": "code",
   "execution_count": 4,
   "metadata": {},
   "outputs": [
    {
     "name": "stdout",
     "output_type": "stream",
     "text": [
      "--2024-02-22 11:24:29--  https://cf-courses-data.s3.us.cloud-object-storage.appdomain.cloud/IBMDeveloperSkillsNetwork-PY0220EN-SkillsNetwork/data/apple.json\n",
      "Resolving cf-courses-data.s3.us.cloud-object-storage.appdomain.cloud (cf-courses-data.s3.us.cloud-object-storage.appdomain.cloud)... 169.63.118.104, 169.63.118.104\n",
      "Connecting to cf-courses-data.s3.us.cloud-object-storage.appdomain.cloud (cf-courses-data.s3.us.cloud-object-storage.appdomain.cloud)|169.63.118.104|:443... connected.\n",
      "HTTP request sent, awaiting response... 200 OK\n",
      "Length: 5699 (5.6K) [application/json]\n",
      "Saving to: ‘apple.json’\n",
      "\n",
      "apple.json          100%[===================>]   5.57K  --.-KB/s    in 0s      \n",
      "\n",
      "2024-02-22 11:24:29 (55.3 MB/s) - ‘apple.json’ saved [5699/5699]\n",
      "\n"
     ]
    }
   ],
   "source": [
    "!wget https://cf-courses-data.s3.us.cloud-object-storage.appdomain.cloud/IBMDeveloperSkillsNetwork-PY0220EN-SkillsNetwork/data/apple.json"
   ]
  },
  {
   "cell_type": "markdown",
   "metadata": {},
   "source": [
    "### Stock Info\n"
   ]
  },
  {
   "cell_type": "markdown",
   "metadata": {},
   "source": [
    "Using the attribute  <code>info</code> we can extract information about the stock as a Python dictionary.\n"
   ]
  },
  {
   "cell_type": "code",
   "execution_count": 5,
   "metadata": {},
   "outputs": [
    {
     "data": {
      "text/plain": [
       "{'zip': '95014',\n",
       " 'sector': 'Technology',\n",
       " 'fullTimeEmployees': 100000,\n",
       " 'longBusinessSummary': 'Apple Inc. designs, manufactures, and markets smartphones, personal computers, tablets, wearables, and accessories worldwide. It also sells various related services. In addition, the company offers iPhone, a line of smartphones; Mac, a line of personal computers; iPad, a line of multi-purpose tablets; AirPods Max, an over-ear wireless headphone; and wearables, home, and accessories comprising AirPods, Apple TV, Apple Watch, Beats products, HomePod, and iPod touch. Further, it provides AppleCare support services; cloud services store services; and operates various platforms, including the App Store that allow customers to discover and download applications and digital content, such as books, music, video, games, and podcasts. Additionally, the company offers various services, such as Apple Arcade, a game subscription service; Apple Music, which offers users a curated listening experience with on-demand radio stations; Apple News+, a subscription news and magazine service; Apple TV+, which offers exclusive original content; Apple Card, a co-branded credit card; and Apple Pay, a cashless payment service, as well as licenses its intellectual property. The company serves consumers, and small and mid-sized businesses; and the education, enterprise, and government markets. It distributes third-party applications for its products through the App Store. The company also sells its products through its retail and online stores, and direct sales force; and third-party cellular network carriers, wholesalers, retailers, and resellers. Apple Inc. was incorporated in 1977 and is headquartered in Cupertino, California.',\n",
       " 'city': 'Cupertino',\n",
       " 'phone': '408 996 1010',\n",
       " 'state': 'CA',\n",
       " 'country': 'United States',\n",
       " 'companyOfficers': [],\n",
       " 'website': 'https://www.apple.com',\n",
       " 'maxAge': 1,\n",
       " 'address1': 'One Apple Park Way',\n",
       " 'industry': 'Consumer Electronics',\n",
       " 'ebitdaMargins': 0.33890998,\n",
       " 'profitMargins': 0.26579002,\n",
       " 'grossMargins': 0.43019,\n",
       " 'operatingCashflow': 112241000448,\n",
       " 'revenueGrowth': 0.112,\n",
       " 'operatingMargins': 0.309,\n",
       " 'ebitda': 128217997312,\n",
       " 'targetLowPrice': 160,\n",
       " 'recommendationKey': 'buy',\n",
       " 'grossProfits': 152836000000,\n",
       " 'freeCashflow': 80153247744,\n",
       " 'targetMedianPrice': 199.5,\n",
       " 'currentPrice': 177.77,\n",
       " 'earningsGrowth': 0.25,\n",
       " 'currentRatio': 1.038,\n",
       " 'returnOnAssets': 0.19875,\n",
       " 'numberOfAnalystOpinions': 44,\n",
       " 'targetMeanPrice': 193.53,\n",
       " 'debtToEquity': 170.714,\n",
       " 'returnOnEquity': 1.45567,\n",
       " 'targetHighPrice': 215,\n",
       " 'totalCash': 63913000960,\n",
       " 'totalDebt': 122797998080,\n",
       " 'totalRevenue': 378323009536,\n",
       " 'totalCashPerShare': 3.916,\n",
       " 'financialCurrency': 'USD',\n",
       " 'revenuePerShare': 22.838,\n",
       " 'quickRatio': 0.875,\n",
       " 'recommendationMean': 1.8,\n",
       " 'exchange': 'NMS',\n",
       " 'shortName': 'Apple Inc.',\n",
       " 'longName': 'Apple Inc.',\n",
       " 'exchangeTimezoneName': 'America/New_York',\n",
       " 'exchangeTimezoneShortName': 'EDT',\n",
       " 'isEsgPopulated': False,\n",
       " 'gmtOffSetMilliseconds': '-14400000',\n",
       " 'quoteType': 'EQUITY',\n",
       " 'symbol': 'AAPL',\n",
       " 'messageBoardId': 'finmb_24937',\n",
       " 'market': 'us_market',\n",
       " 'annualHoldingsTurnover': None,\n",
       " 'enterpriseToRevenue': 7.824,\n",
       " 'beta3Year': None,\n",
       " 'enterpriseToEbitda': 23.086,\n",
       " '52WeekChange': 0.4549594,\n",
       " 'morningStarRiskRating': None,\n",
       " 'forwardEps': 6.56,\n",
       " 'revenueQuarterlyGrowth': None,\n",
       " 'sharesOutstanding': 16319399936,\n",
       " 'fundInceptionDate': None,\n",
       " 'annualReportExpenseRatio': None,\n",
       " 'totalAssets': None,\n",
       " 'bookValue': 4.402,\n",
       " 'sharesShort': 111286790,\n",
       " 'sharesPercentSharesOut': 0.0068,\n",
       " 'fundFamily': None,\n",
       " 'lastFiscalYearEnd': 1632528000,\n",
       " 'heldPercentInstitutions': 0.59397,\n",
       " 'netIncomeToCommon': 100554997760,\n",
       " 'trailingEps': 6.015,\n",
       " 'lastDividendValue': 0.22,\n",
       " 'SandP52WeekChange': 0.15217662,\n",
       " 'priceToBook': 40.38392,\n",
       " 'heldPercentInsiders': 0.0007,\n",
       " 'nextFiscalYearEnd': 1695600000,\n",
       " 'yield': None,\n",
       " 'mostRecentQuarter': 1640390400,\n",
       " 'shortRatio': 1.21,\n",
       " 'sharesShortPreviousMonthDate': 1644883200,\n",
       " 'floatShares': 16302795170,\n",
       " 'beta': 1.185531,\n",
       " 'enterpriseValue': 2959991898112,\n",
       " 'priceHint': 2,\n",
       " 'threeYearAverageReturn': None,\n",
       " 'lastSplitDate': 1598832000,\n",
       " 'lastSplitFactor': '4:1',\n",
       " 'legalType': None,\n",
       " 'lastDividendDate': 1643932800,\n",
       " 'morningStarOverallRating': None,\n",
       " 'earningsQuarterlyGrowth': 0.204,\n",
       " 'priceToSalesTrailing12Months': 7.668314,\n",
       " 'dateShortInterest': 1647302400,\n",
       " 'pegRatio': 1.94,\n",
       " 'ytdReturn': None,\n",
       " 'forwardPE': 27.099087,\n",
       " 'lastCapGain': None,\n",
       " 'shortPercentOfFloat': 0.0068,\n",
       " 'sharesShortPriorMonth': 108944701,\n",
       " 'impliedSharesOutstanding': 0,\n",
       " 'category': None,\n",
       " 'fiveYearAverageReturn': None,\n",
       " 'previousClose': 178.96,\n",
       " 'regularMarketOpen': 178.55,\n",
       " 'twoHundredDayAverage': 156.03505,\n",
       " 'trailingAnnualDividendYield': 0.004833482,\n",
       " 'payoutRatio': 0.1434,\n",
       " 'volume24Hr': None,\n",
       " 'regularMarketDayHigh': 179.61,\n",
       " 'navPrice': None,\n",
       " 'averageDailyVolume10Day': 93823630,\n",
       " 'regularMarketPreviousClose': 178.96,\n",
       " 'fiftyDayAverage': 166.498,\n",
       " 'trailingAnnualDividendRate': 0.865,\n",
       " 'open': 178.55,\n",
       " 'toCurrency': None,\n",
       " 'averageVolume10days': 93823630,\n",
       " 'expireDate': None,\n",
       " 'algorithm': None,\n",
       " 'dividendRate': 0.88,\n",
       " 'exDividendDate': 1643932800,\n",
       " 'circulatingSupply': None,\n",
       " 'startDate': None,\n",
       " 'regularMarketDayLow': 176.7,\n",
       " 'currency': 'USD',\n",
       " 'trailingPE': 29.55445,\n",
       " 'regularMarketVolume': 92633154,\n",
       " 'lastMarket': None,\n",
       " 'maxSupply': None,\n",
       " 'openInterest': None,\n",
       " 'marketCap': 2901099675648,\n",
       " 'volumeAllCurrencies': None,\n",
       " 'strikePrice': None,\n",
       " 'averageVolume': 95342043,\n",
       " 'dayLow': 176.7,\n",
       " 'ask': 178.53,\n",
       " 'askSize': 800,\n",
       " 'volume': 92633154,\n",
       " 'fiftyTwoWeekHigh': 182.94,\n",
       " 'fromCurrency': None,\n",
       " 'fiveYearAvgDividendYield': 1.13,\n",
       " 'fiftyTwoWeekLow': 122.25,\n",
       " 'bid': 178.4,\n",
       " 'tradeable': False,\n",
       " 'dividendYield': 0.005,\n",
       " 'bidSize': 3200,\n",
       " 'dayHigh': 179.61,\n",
       " 'regularMarketPrice': 177.77,\n",
       " 'preMarketPrice': 178.38,\n",
       " 'logo_url': 'https://logo.clearbit.com/apple.com'}"
      ]
     },
     "execution_count": 5,
     "metadata": {},
     "output_type": "execute_result"
    }
   ],
   "source": [
    "import json\n",
    "with open('apple.json') as json_file:\n",
    "    apple_info = json.load(json_file)\n",
    "    # Print the type of data variable    \n",
    "    #print(\"Type:\", type(apple_info))\n",
    "apple_info"
   ]
  },
  {
   "cell_type": "markdown",
   "metadata": {},
   "source": [
    "We can get the <code>'country'</code> using the key country\n"
   ]
  },
  {
   "cell_type": "code",
   "execution_count": 6,
   "metadata": {},
   "outputs": [
    {
     "data": {
      "text/plain": [
       "'United States'"
      ]
     },
     "execution_count": 6,
     "metadata": {},
     "output_type": "execute_result"
    }
   ],
   "source": [
    "apple_info['country']"
   ]
  },
  {
   "cell_type": "markdown",
   "metadata": {},
   "source": [
    "### Extracting Share Price\n"
   ]
  },
  {
   "cell_type": "markdown",
   "metadata": {},
   "source": [
    "A share is the single smallest part of a company's stock  that you can buy, the prices of these shares fluctuate over time. Using the <code>history()</code> method we can get the share price of the stock over a certain period of time. Using the `period` parameter we can set how far back from the present to get data. The options for `period` are 1 day (1d), 5d, 1 month (1mo) , 3mo, 6mo, 1 year (1y), 2y, 5y, 10y, ytd, and max.\n"
   ]
  },
  {
   "cell_type": "code",
   "execution_count": 20,
   "metadata": {},
   "outputs": [],
   "source": [
    "apple_share_price_data = apple.history(period=\"max\")"
   ]
  },
  {
   "cell_type": "markdown",
   "metadata": {},
   "source": [
    "The format that the data is returned in is a Pandas DataFrame. With the `Date` as the index the share `Open`, `High`, `Low`, `Close`, `Volume`, and `Stock Splits` are given for each day.\n"
   ]
  },
  {
   "cell_type": "code",
   "execution_count": 8,
   "metadata": {},
   "outputs": [
    {
     "data": {
      "text/html": [
       "<div>\n",
       "<style scoped>\n",
       "    .dataframe tbody tr th:only-of-type {\n",
       "        vertical-align: middle;\n",
       "    }\n",
       "\n",
       "    .dataframe tbody tr th {\n",
       "        vertical-align: top;\n",
       "    }\n",
       "\n",
       "    .dataframe thead th {\n",
       "        text-align: right;\n",
       "    }\n",
       "</style>\n",
       "<table border=\"1\" class=\"dataframe\">\n",
       "  <thead>\n",
       "    <tr style=\"text-align: right;\">\n",
       "      <th></th>\n",
       "      <th>Open</th>\n",
       "      <th>High</th>\n",
       "      <th>Low</th>\n",
       "      <th>Close</th>\n",
       "      <th>Volume</th>\n",
       "      <th>Dividends</th>\n",
       "      <th>Stock Splits</th>\n",
       "    </tr>\n",
       "    <tr>\n",
       "      <th>Date</th>\n",
       "      <th></th>\n",
       "      <th></th>\n",
       "      <th></th>\n",
       "      <th></th>\n",
       "      <th></th>\n",
       "      <th></th>\n",
       "      <th></th>\n",
       "    </tr>\n",
       "  </thead>\n",
       "  <tbody>\n",
       "    <tr>\n",
       "      <th>1980-12-12 00:00:00-05:00</th>\n",
       "      <td>0.099192</td>\n",
       "      <td>0.099623</td>\n",
       "      <td>0.099192</td>\n",
       "      <td>0.099192</td>\n",
       "      <td>469033600</td>\n",
       "      <td>0.0</td>\n",
       "      <td>0.0</td>\n",
       "    </tr>\n",
       "    <tr>\n",
       "      <th>1980-12-15 00:00:00-05:00</th>\n",
       "      <td>0.094448</td>\n",
       "      <td>0.094448</td>\n",
       "      <td>0.094017</td>\n",
       "      <td>0.094017</td>\n",
       "      <td>175884800</td>\n",
       "      <td>0.0</td>\n",
       "      <td>0.0</td>\n",
       "    </tr>\n",
       "    <tr>\n",
       "      <th>1980-12-16 00:00:00-05:00</th>\n",
       "      <td>0.087548</td>\n",
       "      <td>0.087548</td>\n",
       "      <td>0.087117</td>\n",
       "      <td>0.087117</td>\n",
       "      <td>105728000</td>\n",
       "      <td>0.0</td>\n",
       "      <td>0.0</td>\n",
       "    </tr>\n",
       "    <tr>\n",
       "      <th>1980-12-17 00:00:00-05:00</th>\n",
       "      <td>0.089273</td>\n",
       "      <td>0.089704</td>\n",
       "      <td>0.089273</td>\n",
       "      <td>0.089273</td>\n",
       "      <td>86441600</td>\n",
       "      <td>0.0</td>\n",
       "      <td>0.0</td>\n",
       "    </tr>\n",
       "    <tr>\n",
       "      <th>1980-12-18 00:00:00-05:00</th>\n",
       "      <td>0.091861</td>\n",
       "      <td>0.092292</td>\n",
       "      <td>0.091861</td>\n",
       "      <td>0.091861</td>\n",
       "      <td>73449600</td>\n",
       "      <td>0.0</td>\n",
       "      <td>0.0</td>\n",
       "    </tr>\n",
       "  </tbody>\n",
       "</table>\n",
       "</div>"
      ],
      "text/plain": [
       "                               Open      High       Low     Close     Volume  \\\n",
       "Date                                                                           \n",
       "1980-12-12 00:00:00-05:00  0.099192  0.099623  0.099192  0.099192  469033600   \n",
       "1980-12-15 00:00:00-05:00  0.094448  0.094448  0.094017  0.094017  175884800   \n",
       "1980-12-16 00:00:00-05:00  0.087548  0.087548  0.087117  0.087117  105728000   \n",
       "1980-12-17 00:00:00-05:00  0.089273  0.089704  0.089273  0.089273   86441600   \n",
       "1980-12-18 00:00:00-05:00  0.091861  0.092292  0.091861  0.091861   73449600   \n",
       "\n",
       "                           Dividends  Stock Splits  \n",
       "Date                                                \n",
       "1980-12-12 00:00:00-05:00        0.0           0.0  \n",
       "1980-12-15 00:00:00-05:00        0.0           0.0  \n",
       "1980-12-16 00:00:00-05:00        0.0           0.0  \n",
       "1980-12-17 00:00:00-05:00        0.0           0.0  \n",
       "1980-12-18 00:00:00-05:00        0.0           0.0  "
      ]
     },
     "execution_count": 8,
     "metadata": {},
     "output_type": "execute_result"
    }
   ],
   "source": [
    "apple_share_price_data.head()"
   ]
  },
  {
   "cell_type": "markdown",
   "metadata": {},
   "source": [
    "We can reset the index of the DataFrame with the `reset_index` function. We also set the `inplace` paramter to `True` so the change takes place to the DataFrame itself.\n"
   ]
  },
  {
   "cell_type": "code",
   "execution_count": 9,
   "metadata": {},
   "outputs": [],
   "source": [
    "apple_share_price_data.reset_index(inplace=True)"
   ]
  },
  {
   "cell_type": "markdown",
   "metadata": {},
   "source": [
    "We can plot the `Open` price against the `Date`:\n"
   ]
  },
  {
   "cell_type": "code",
   "execution_count": 10,
   "metadata": {},
   "outputs": [
    {
     "data": {
      "text/plain": [
       "<AxesSubplot:xlabel='Date'>"
      ]
     },
     "execution_count": 10,
     "metadata": {},
     "output_type": "execute_result"
    },
    {
     "data": {
      "image/png": "iVBORw0KGgoAAAANSUhEUgAAAigAAAGVCAYAAADUsQqzAAAAOXRFWHRTb2Z0d2FyZQBNYXRwbG90bGliIHZlcnNpb24zLjUuMywgaHR0cHM6Ly9tYXRwbG90bGliLm9yZy/NK7nSAAAACXBIWXMAAA9hAAAPYQGoP6dpAABRp0lEQVR4nO3deXgT1foH8G+StulCKUt3KG1BClyLSNlBZJGtIiogyoWrogiiiCJwUa4bbuCKekVQf1cFWURRxAWURTYRVBaRfW+hQEspSzfapE3e3x+hQ9OmK0lnkn4/z5PHZOZk+r6dSt6cOXOOTkQERERERBqiVzsAIiIiopJYoBAREZHmsEAhIiIizWGBQkRERJrDAoWIiIg0hwUKERERaQ4LFCIiItIcL7UDqA6r1YozZ84gMDAQOp1O7XCIiIioEkQE2dnZiIyMhF5ffh+JWxYoZ86cQVRUlNphEBERUTWkpKSgcePG5bZxywIlMDAQgC3BunXrqhwNERERVUZWVhaioqKUz/HyuGWBUnRZp27duixQiIiI3ExlhmdwkCwRERFpDgsUIiIi0hwWKERERKQ5bjkGpbIsFgsKCgrUDsNj+Pj4VHhbGBERkTN4ZIEiIkhLS8OlS5fUDsWj6PV6xMbGwsfHR+1QiIjIw1WpQJk5cyaWLVuGgwcPws/PD127dsXrr7+OFi1aKG1EBC+++CI+/vhjXLx4EZ06dcIHH3yA66+/XmljMpkwZcoUfPHFF8jLy8Mtt9yCOXPmVHhPdGUVFSehoaHw9/fnZG5OUDQ5XmpqKpo0acLfKRERuVSVCpSNGzdi/Pjx6NChAwoLC/HMM8+gX79+2L9/PwICAgAAb7zxBmbNmoV58+YhLi4Or7zyCvr27YtDhw4p9z1PnDgRP/zwA5YsWYKGDRti8uTJuO2227Bjxw4YDIZrSshisSjFScOGDa/pWGQvJCQEZ86cQWFhIby9vdUOh4iIPJhORKS6bz537hxCQ0OxceNG3HzzzRARREZGYuLEiXjqqacA2HpLwsLC8Prrr+Phhx9GZmYmQkJCsGDBAtxzzz0Ars4Mu3LlSvTv37/Cn5uVlYWgoCBkZmaWmgclPz8fSUlJiImJgZ+fX3VTIwfy8vKQnJyM2NhY+Pr6qh0OERG5mfI+v0u6phGPmZmZAIAGDRoAAJKSkpCWloZ+/fopbYxGI3r06IEtW7YAAHbs2IGCggK7NpGRkYiPj1falGQymZCVlWX3qAgvQTgff6dERFRTql2giAgmTZqEm266CfHx8QBsYz8AICwszK5tWFiYsi8tLQ0+Pj6oX79+mW1KmjlzJoKCgpQH1+EhIiLybNUuUB577DHs3r0bX3zxRal9Jb9pi0iF377LazNt2jRkZmYqj5SUlOqGTURERG6gWgXKhAkT8P3332P9+vV2d96Eh4cDQKmekPT0dKVXJTw8HGazGRcvXiyzTUlGo1FZd8fT199JSUnB6NGjERkZCR8fH0RHR+OJJ57A+fPn1Q6NiIg8mMUqePqb3fhmxym1QwFQxQJFRPDYY49h2bJlWLduHWJjY+32x8bGIjw8HGvWrFG2mc1mbNy4EV27dgUAtGvXDt7e3nZtUlNTsXfvXqVNbXX8+HG0b98ehw8fxhdffIGjR4/iww8/xC+//IIuXbrgwoULaodIREQe6qe9qViyLQWTl/6tdigAqligjB8/HgsXLsTixYsRGBiItLQ0pKWlIS8vD4Dt0s7EiRMxY8YMfPvtt9i7dy9GjRoFf39/jBgxAgAQFBSE0aNHY/Lkyfjll1/w119/4V//+hdat26NPn36OD9DNzJ+/Hj4+Phg9erV6NGjB5o0aYLExESsXbsWp0+fxjPPPAMAiImJwcsvv4wRI0agTp06iIyMxPvvv293rMzMTIwdOxahoaGoW7cuevfujb//vvpHN336dNx4441YsGABYmJiEBQUhOHDhyM7O7tGcyYiIm3IyS9UOwQ7VSpQ5s6di8zMTPTs2RMRERHK48svv1TaTJ06FRMnTsSjjz6K9u3b4/Tp01i9erUyBwoAvPPOO7jzzjtx9913o1u3bvD398cPP/xwzXOglEVEcNlcqMqjsndxX7hwAatWrcKjjz5a6vbo8PBwjBw5El9++aVyvDfffBM33HADdu7ciWnTpuHJJ59UeqVEBAMHDkRaWhpWrlyJHTt2ICEhAbfccotdL8yxY8ewfPly/Pjjj/jxxx+xceNGvPbaa076rRMRkdalXLiM1ExbJ4Ofj2s+g6urShO1VebDVqfTYfr06Zg+fXqZbXx9ffH++++X+tbvKnkFFvzj+VU18rNK2v9Sf/j7VPxrPnLkCEQErVq1cri/VatWuHjxIs6dOwcA6NatG55++mkAQFxcHH777Te888476Nu3L9avX489e/YgPT0dRqMRAPDWW29h+fLl+PrrrzF27FgAttlh582bpxSP9957L3755Re8+uqr15w3ERFpW3p2Prq/sR4AcHzGrfD1vlqgPP3Nbrw29Aa1QgPA1YzdRlFxWHSnU5cuXez2d+nSBQcOHABgm2smJycHDRs2RJ06dZRHUlISjh07prwnJibGrmcrIiIC6enprk6FiIg0YMaKA8pzqwi89FfvpF2yLQUZOSY1wlJ45GKBJfl5G7D/pYpnqHXVz66M6667DjqdDvv378edd95Zav/BgwdRv359BAcHl3mMouLFarUiIiICGzZsKNWmXr16yvOS09XrdDpYrdZKxUtERO5t+a4zynOrAJ9vPWG331r9ieadolYUKDqdrlKXWdTUsGFD9O3bF3PmzMGTTz5pNw4lLS0NixYtwn333acUIb///rvd+3///Xe0bNkSAJCQkIC0tDR4eXkhJiamxnIgIiL3ZBXBxsPn7LapXJ/wEo+WzJ49GyaTCf3798emTZuQkpKCn3/+GX379kWjRo3sxob89ttveOONN3D48GF88MEHWLp0KZ544gkAQJ8+fdClSxfceeedWLVqFZKTk7FlyxY8++yz2L59u1rpERGRRllFEFzHaLfNYlW3QmGBoiHNmzfH9u3b0axZM9xzzz1o1qwZxo4di169emHr1q3KmkcAMHnyZOzYsQNt27bFyy+/jLfffltZaFGn02HlypW4+eab8eCDDyIuLg7Dhw9HcnJymZPhERFR7WUVYFTXaLttahco17SasVoqs5qxJ6+4GxMTg4kTJ2LixIk1+nNrw++WiKi2iHl6hfJ89/R+SHhpDQqLFSUbpvRETHCAU39mja1mTERERO7PahW74gQA0rLyVYrGhgUKERFRLefoWsrkr9Sd8l7bt7aQQ8nJyWqHQEREHmTTkXOltp2+lKdCJFexB4WIiKiWsZa4nPPEkl3qBFIOFihERES1jMUN7o/x2ALFDW9O0jz+TomIPIPatxBXhscVKEXTt1++fFnlSDyP2WwGAJetOk1ERDXDbNH+siYeN0jWYDCgXr16yqJ3/v7+yvTwVH1WqxXnzp2Dv78/vLw87s+GiKhW2XHiotohVMgjP2nCw8MBgCvzOpler0eTJk1Y8BERublnv92rdggV8sgCRafTISIiAqGhoSgoKFA7HI/h4+MDvd7jrgoSEdU67vA90yMLlCIGg4HjJYiIiEpwhwKFX4eJiIhqGb0bVCgsUIiIiGqZ6yPLX6hPC1igEBER1TIHUrPVDqFCLFCIiIhqmaSMXLVDqBALFCIiIjd0IdeMd9ceRsoF10xMOrB1hEuOW1ksUIiIiNzQlKV/4921RzBk7haXHL+un7o3+rJAISIickPrDtomIz2XbXLJ8eMbBbnkuJXl0fOgEBEReaLzOa4pSgDg54nd8WfSBQzv0MRlP6MyWKAQERG5mZMuGncCAC3D66JluPq3IfMSDxEREWlOlQuUTZs2YdCgQYiMjIROp8Py5cvt9ut0OoePN998U2nTs2fPUvuHDx9+zckQERHVBlLi9eSv/sbUr/9WJRZXqXKBkpubizZt2mD27NkO96empto9Pv30U+h0OgwdOtSu3ZgxY+zaffTRR9XLgIiIqJb7ZucpfLX9FDIvV7xArkjJ8kabqjwGJTExEYmJiWXuDw8Pt3v93XffoVevXmjatKnddn9//1Jty2IymWAyXR0QlJWVVYWIiYiIaod9qZno2iy43DZbjp2voWiujUvHoJw9exYrVqzA6NGjS+1btGgRgoODcf3112PKlCnIzi572t2ZM2ciKChIeURFRbkybCIiIre0I/lihW3Ss/NrIJJr59K7eObPn4/AwEAMGTLEbvvIkSMRGxuL8PBw7N27F9OmTcPff/+NNWvWODzOtGnTMGnSJOV1VlYWixQiIqq1yrpKU5lFig1697g/xqUFyqeffoqRI0fC19fXbvuYMWOU5/Hx8WjevDnat2+PnTt3IiEhodRxjEYjjEajK0MlIiJyI44rlMoML3GXMSguK6N+/fVXHDp0CA899FCFbRMSEuDt7Y0jR464KhwiIqJa47ejGVh/KN3hvgVbT9RwNNXjsh6UTz75BO3atUObNm0qbLtv3z4UFBQgIkLdhYmIiIjcWYDRCwUWK0b+7w8AwK7n+6Kev49dm+0nKh6nogVV7kHJycnBrl27sGvXLgBAUlISdu3ahZMnTyptsrKysHTpUoe9J8eOHcNLL72E7du3Izk5GStXrsSwYcPQtm1bdOvWrfqZEBER1RJlXaW5oXEQTIVW5XVmXvm3Hd/TXrvjOatcoGzfvh1t27ZF27ZtAQCTJk1C27Zt8fzzzyttlixZAhHBP//5z1Lv9/HxwS+//IL+/fujRYsWePzxx9GvXz+sXbsWBoPhGlIhIiKiPLNFee7jVfpjPjLo6rjQqQNa1EhM1VHlSzw9e/ascIDN2LFjMXbsWIf7oqKisHHjxqr+WCIiIqqAxSoosFztQbE6+Li+OS4ES7alAADq+Hqhnr83LlVigrea5h73GhEREVGFCiyCQsvVqiQnv7BUm3UHbYNnb4yqB6OXASF1tHmXLAsUIiIiN1PWdYwVe87AXKwH5aONx0q1Sc+2zcy+K+USAKB1oyBnh+cULFCIiIjcTFkjLb74M8XuEs/ZSswa+8Kg650VllOxQCEiInIz5Y0FLV6gWBwNQikhyN/bKTE5GwsUIiIiN1Ne3VFgcY+ZYivCAoWIiMjNVLYHpaSyFgoc0akJAGBin+bXFpgTuXQtHiIiInK+lXtTy9xX/C6euLBAu30Tl+xy+J6X74jHvZ2j0aJEezWxQCEiInIzC38/Wea+L7Zd3dc+poHdvi3Hzjt8j0GvQ6uIus4Jzkl4iYeIiMiD7Ei+utaOu6xc7AgLFCIiIg9SWGwErbWcAqVPq9CaCKfaWKAQERF5kOJFibXs8bJo26R+DURTfSxQiIiIPMiD3WKU5+X1oIQGanOK+yIsUIiIiDyIufBqt0l5Q1CGJDSugWiqjwUKERGRByk+BsVSToVi0OtqIpxqY4FCRETkQU5dzFOel7zEU0+j09o7wgKFiIjIg3z/9xnleckp8QN9bdOfJcaH12RI1cIChYiIyEO9tvKA3euUC7belZ/2pqkRTpWwQCEiIvJQuWaL2iFUGwsUIiIiD9IjLkTtEJyCBQoREZEHqczNOXe10/YtxgALFCIiIrdTNMlao3p+pfbpdPYVirXYSNngOrb3/atztAujcw4WKERERG4iz2zBqYuXEdXAHwAwpX9cqTYlFwjMzi9UnmfkmAAA2p4BxcZL7QCIiIiocnq/vQGpmfkINNo+vvW60qVGyVuLBaUnazuQmoU2UfVcEaLTsAeFiIjITaRm5gMAsk22XhFHBcrGw+fsXr/w/T5YrWLXs+IOE7axQCEiInJTjgqUkr7bdQar9qXheEausq1TbENXhuUULFCIiIjclKGSn+JpWfm45e2Nymu9xtfhAapRoGzatAmDBg1CZGQkdDodli9fbrd/1KhR0Ol0do/OnTvbtTGZTJgwYQKCg4MREBCA22+/HadOnbqmRIiIiGqbyvSgAEBmXkGJ97kiGueqcoGSm5uLNm3aYPbs2WW2GTBgAFJTU5XHypUr7fZPnDgR3377LZYsWYLNmzcjJycHt912GywW953xjoiIyJUKLNZS2ypboLy79ki13qemKt/Fk5iYiMTExHLbGI1GhIc7XogoMzMTn3zyCRYsWIA+ffoAABYuXIioqCisXbsW/fv3r2pIREREHq/QUvpuHF9vQ7WOZXCDLhSXjEHZsGEDQkNDERcXhzFjxiA9PV3Zt2PHDhQUFKBfv37KtsjISMTHx2PLli0Oj2cymZCVlWX3ICIiqk0sUrpAqeNbvdlC3KADxfkFSmJiIhYtWoR169bh7bffxrZt29C7d2+YTLbJYdLS0uDj44P69evbvS8sLAxpaY5XV5w5cyaCgoKUR1RUlLPDJiIi0jSLgx4UL70Ovt5V/yg3uEGF4vQC5Z577sHAgQMRHx+PQYMG4aeffsLhw4exYsWKct8nIqWm5y0ybdo0ZGZmKo+UlBRnh01ERKRpjnpQvA16PHNrqyofyx3GoLj8NuOIiAhER0fjyBHbAJ3w8HCYzWZcvHjRrl16ejrCwsIcHsNoNKJu3bp2DyIiotrko43HSm3T6YB7u8Tgt6d7V+lYHnmbcVWdP38eKSkpiIiIAAC0a9cO3t7eWLNmjdImNTUVe/fuRdeuXV0dDhERkdvJL7Dgo03HS20v6lRxtGigu6vy6JqcnBwcPXpUeZ2UlIRdu3ahQYMGaNCgAaZPn46hQ4ciIiICycnJ+M9//oPg4GAMHjwYABAUFITRo0dj8uTJaNiwIRo0aIApU6agdevWyl09REREdNWMlQccbne0zo6nqHKBsn37dvTq1Ut5PWnSJADA/fffj7lz52LPnj34/PPPcenSJURERKBXr1748ssvERgYqLznnXfegZeXF+6++27k5eXhlltuwbx582AwVO92KSIiIk/2+dYTDrfHNAyo4UhqTpULlJ49e5Zayrm4VatWVXgMX19fvP/++3j//fer+uOJiIjoiurOg+IOuBYPERERaQ4LFCIiIjf08p3xaofgUixQiIiI3JB/NS/v+FR2CWSVuUeUREREZMfLUL25TH6a2N3JkbgGCxQiIqJaIriOD5qF1FE7jEphgUJERKQhIoIVu1Nx4nxuue2SMy5X+dg3RtWvuJFGVG8ZRCIiInKJdQfTMX7xTgBA8msDnXpsHy/tT3FfhD0oREREGvJn8oVKtSu5eGBlBr96u8kAWYAFChERkXsqUaBUZoFid7mDB2CBQkREpCk6lF1p9P1HmPJ8SEJju336SlQo3l7u87HvPpESERHVUt2uawgAuDGqnrItONBo10bPHhQiIiJyFUcdIYUW2+WcQN+r97aULEgq04Pi40Y9KLyLh4iISOMsVluBEhpoxOS+cTAYdPD3sf8I11eiC8WdelBYoBAREWnI2cz8UtsKrhQoBr0eE25p7vB99fy9kZlXoLwO8DEg12yxa8O7eIiIiKhSRARH03NgsQpyTIVY9tfpUm0sViuA8qe3/+jednavw+r6lmrjzXlQiIiIqDLmb0lGn1kbMWXp30i9lGe37/SlPBxNz1HGoHiVcxmnZXhd+w0OmvISDxEREVXK++uOAgC+/es0xvdqZrfvwc+24dDZbOW1l75yBUZZhYg7DZJ1n0iJiIg8UPHp1nQl7sQpXpwAlV/BeHjHKDzSo1mp7RyDQkRERFVWUflhqMxkJwB+PZKBYe2jsH5KT7vta/efrV5gKmCBQkREpCIpNmV9yR6UknLyCyt1zKQM20rIscEBdttL9shoGQsUIiIijTBUUKAUzYdSkZASs8wW4RgUIiIiqhSxe15+AZIQXb9Sx+zVIsTh9kE3RFY2LNWxQCEiItKI/AJrufsDfAyVOk5ZY1V6tQytckxqYYFCRESkomJDUPD1jpRy21Z2kGzxsSzPDmx19f2VWK9HK1igEBERaURWXvmDYCsaRFukvr+38tydxp0U555RExEReYjid/HcekPENR3rrWFt0CMuBOOKzYFSNAutu+FMskRERCqym6jtGo91V7vGuKtdY7ttlb3zR2uq3IOyadMmDBo0CJGRkdDpdFi+fLmyr6CgAE899RRat26NgIAAREZG4r777sOZM2fsjtGzZ0/odDq7x/Dhw685GSIiIrdTrH44ceFymc3aRNWr1uE7xDZQnrvREJSqFyi5ublo06YNZs+eXWrf5cuXsXPnTjz33HPYuXMnli1bhsOHD+P2228v1XbMmDFITU1VHh999FH1MiAiInJj2aar406eW763zHbGak5THx9Zt+JGGlTlSzyJiYlITEx0uC8oKAhr1qyx2/b++++jY8eOOHnyJJo0aaJs9/f3R3h4eKV+pslkgslkUl5nZWVVNWwiIiK39mfyhWq9r7J3/miNywfJZmZmQqfToV69enbbFy1ahODgYFx//fWYMmUKsrPLnn535syZCAoKUh5RUVEujpqIiMgzFL/zJ6qBv4qRVI1LB8nm5+fj6aefxogRI1C37tUuppEjRyI2Nhbh4eHYu3cvpk2bhr///rtU70uRadOmYdKkScrrrKwsFilERESV9Oczt8BUYEWQn3fFjTXCZQVKQUEBhg8fDqvVijlz5tjtGzNmjPI8Pj4ezZs3R/v27bFz504kJCSUOpbRaITR6HhdASIiIipfaKCv2iFUmUsu8RQUFODuu+9GUlIS1qxZY9d74khCQgK8vb1x5MgRV4RDRETk9tx1LEl1Ob0Hpag4OXLkCNavX4+GDRtW+J59+/ahoKAAERHXNkENERGRp4oLC1Q7hBpV5QIlJycHR48eVV4nJSVh165daNCgASIjI3HXXXdh586d+PHHH2GxWJCWlgYAaNCgAXx8fHDs2DEsWrQIt956K4KDg7F//35MnjwZbdu2Rbdu3ZyXGRERkQd5dXC82iHUqCoXKNu3b0evXr2U10WDV++//35Mnz4d33//PQDgxhtvtHvf+vXr0bNnT/j4+OCXX37Be++9h5ycHERFRWHgwIF44YUXYDBUbpVGIiKi2ubGxvXUDqFGVblA6dmzp926ASWVtw8AoqKisHHjxqr+WCIiolrr0CsDoK9lY1C4WCAREZHGGb1q3xUGFihERESkOSxQiIiISHNYoBAREWnMv/u3UDsE1bFAISIi0piW4VfnPNn4757qBaIil67FQ0RERFUXVtcXc0cmwNfHgOiGAWqHowoWKERERBqj1+mQ2Lp2z67OSzxEREQao6tdU544xAKFiIhIYxoE+KgdgupYoBAREWmMr3ftm5itJBYoREREGuNt4DUeFihEREQa423gxzN/A0RERBrjVcsWBnSEBQoREZFKDqZlldoW36gudLyNhwUKERGRWo6czSm1LTLIT4VItIcFChERkUoMDi7lWKyiQiTawwKFiIhIJeKgFilkgQKABQoREZFqfL1LfwyzB8WGBQoREZFK6hhLL4lXYLGqEIn2sEAhIiJSiamwdDHSPKyOCpFoDwsUIiIilRRaSxco/+7fUoVItIcFChERkUpKDpL9YEQCgvy81QlGY1igEBERqaTkeFgvrsGjYIFCRESkEmuJLhRxdN9xLcUChYiISCUl6xHeYXwVCxQiIiKVlOwxKdmjUptVuUDZtGkTBg0ahMjISOh0Oixfvtxuv4hg+vTpiIyMhJ+fH3r27Il9+/bZtTGZTJgwYQKCg4MREBCA22+/HadOnbqmRIiIiNxNyR6TFmGB6gSiQVUuUHJzc9GmTRvMnj3b4f433ngDs2bNwuzZs7Ft2zaEh4ejb9++yM7OVtpMnDgR3377LZYsWYLNmzcjJycHt912GywWS/UzISIicjMCW4USGmjEkrGd0ZwFiqL0FHYVSExMRGJiosN9IoJ3330XzzzzDIYMGQIAmD9/PsLCwrB48WI8/PDDyMzMxCeffIIFCxagT58+AICFCxciKioKa9euRf/+/a8hHSIiIvdR1IPSLKQOOjdtqG4wGuPUMShJSUlIS0tDv379lG1GoxE9evTAli1bAAA7duxAQUGBXZvIyEjEx8crbUoymUzIysqyexAREbm7ojEoOt5dXIpTC5S0tDQAQFhYmN32sLAwZV9aWhp8fHxQv379MtuUNHPmTAQFBSmPqKgoZ4ZNRESkiqIxsXpWKKW45C4eXYlftIiU2lZSeW2mTZuGzMxM5ZGSkuK0WImIiNRiZQ9KmZxaoISHhwNAqZ6Q9PR0pVclPDwcZrMZFy9eLLNNSUajEXXr1rV7EBERuTv2oJTNqQVKbGwswsPDsWbNGmWb2WzGxo0b0bVrVwBAu3bt4O3tbdcmNTUVe/fuVdoQERHVBkfScwAAZgerGtd2Vb6LJycnB0ePHlVeJyUlYdeuXWjQoAGaNGmCiRMnYsaMGWjevDmaN2+OGTNmwN/fHyNGjAAABAUFYfTo0Zg8eTIaNmyIBg0aYMqUKWjdurVyVw8REVFt8OHGYwCArcfPqxyJ9lS5QNm+fTt69eqlvJ40aRIA4P7778e8efMwdepU5OXl4dFHH8XFixfRqVMnrF69GoGBV+/tfuedd+Dl5YW7774beXl5uOWWWzBv3jwYDAYnpERERETuTiduuDJRVlYWgoKCkJmZyfEoRETktmKeXqE8T35toIqR1IyqfH5zLR4iIiLSHBYoREREpDksUIiIiEhzWKAQERGpwFpyKWOywwKFiIhIBWYL5z4pDwsUIiIiFZg4OVu5WKAQERGpgLPHlo8FChERkQqy8gvUDkHTWKAQERGpYOuxq9PbG/RcLLAkFihEREQqeHXFAeV5j7gQFSPRJhYoREREKsgrsCjP3x7WRsVItIkFChERkcrqB/ioHYLmsEAhIiIizWGBQkRERJrDAoWIiIg0hwUKERGRihpw/IlDLFCIiIhUxDlQHGOBQkREpCKDjgWKIyxQiIiIVMQeFMdYoBAREamIBYpjLFCIiIhUFBpoVDsETWKBQkREVMNERHk+/fbrVYxEu1igEBER1bBC69UCJaq+v4qRaBcLFCIiohpwIdeM1i+swrzfknDZfHWhQG8vjkFxxEvtAIiIiGqDhJfXAACm/7Af53PNynZvA/sKHOFvhYiIqIa9v+6o8tyLd/E4xAKFiIhIRTpO1OaQ0wuUmJgY6HS6Uo/x48cDAEaNGlVqX+fOnZ0dBhERkWZk5ReoHYLbcfoYlG3btsFiuTr4Z+/evejbty+GDRumbBswYAA+++wz5bWPDxdKIiIiz5VXbFAsVY7TC5SQkBC716+99hqaNWuGHj16KNuMRiPCw8Od/aOJiIg0KTOPPShV5dIxKGazGQsXLsSDDz5od41tw4YNCA0NRVxcHMaMGYP09PRyj2MymZCVlWX3ICIichc5pkK1Q3A7Li1Qli9fjkuXLmHUqFHKtsTERCxatAjr1q3D22+/jW3btqF3794wmUxlHmfmzJkICgpSHlFRUa4Mm4iIyKkKLVJxI7Kjk+Lz7TpZ//794ePjgx9++KHMNqmpqYiOjsaSJUswZMgQh21MJpNdAZOVlYWoqChkZmaibt26To+biIjImbYcy8CI//vD4b7k1wbWcDTqycrKQlBQUKU+v102UduJEyewdu1aLFu2rNx2ERERiI6OxpEjR8psYzQaYTRyMSUiInJP+QWOB8m+cmd8DUfiPlx2ieezzz5DaGgoBg4svzI8f/48UlJSEBER4apQiIiIVPXhxuMOt3eIaVDDkbgPlxQoVqsVn332Ge6//354eV3tpMnJycGUKVOwdetWJCcnY8OGDRg0aBCCg4MxePBgV4RCRESkuj+TLjjc7udtqOFI3IdLLvGsXbsWJ0+exIMPPmi33WAwYM+ePfj8889x6dIlREREoFevXvjyyy8RGBjoilCIiIg0y8+HBUpZXFKg9OvXD47G3vr5+WHVqlWu+JFERERuhwVK2bgWDxERkYvd0jLU4XZe4ikbCxQiIiIXM1usDrcbuJJxmVigEBERudivRzLUDsHtsEAhIiIizWGBQkRE5GL1/b3VDsHtsEAhIiJysYuXuZpxVbFAISIicqH5W5LVDsEtsUAhIiJyoRe+3+dw+203cImX8rBAISIiUsFN1wWrHYKmsUAhIiJSgY5ToJSLBQoREZGLFJQxQRsA6MAKpTwsUIiIiFwkJ79Qef7G0BvQNDhAeb3z5EU1QnIbLFCIiIhcJNdsK1CMXnrc3SEKj/W+Ttm39fh5tcJyCyxQiIiIXCT7Sg+KqdB2qcdiFWVfwwAfVWJyFyxQiIiIXOSTzUl2r1/6Yb/yvFlInZoOx62wQCEiInKRP5LsL+Nkm66OSfH1NtR0OG6FBQoREZGL3HljozL3Gb34EVwe/naIiIhcxEtv+5j9Z8coAMDjxQbJDu/YRJWY3AULFCIiIhf5eNMxAMDpS/kAgG7FZo9tFhLg8D1kwwKFiIjIRXLNFgDApsPnAAC6YtPH6jiVbLlYoBAREbnYHTdGAuD09lXBAoWIiKgKMnJMeP67vdh3JrPCtv+IqAsAGNzWNli2vj/nPqksL7UDICIichfnsk3o8OpaAMDnW08g+bWBZbbdlnwB+1OzAAD1rhQm14XWwbMDWyEk0Oj6YN0cCxQiIqJKKjnxWnmGfbhVed6onp/y/KHuTZ0ak6fiJR4iIqJKyjMX2r0uLGe14uJEpOJGZIcFChERUSUV3ZVTZMHvJxy2S8rItXtt9OKssVXl9AJl+vTp0Ol0do/w8HBlv4hg+vTpiIyMhJ+fH3r27Il9+/Y5OwwiIiKn+3rHKbvXLxZbW6e4Xm9tsHsd5O/tqpA8lkt6UK6//nqkpqYqjz179ij73njjDcyaNQuzZ8/Gtm3bEB4ejr59+yI7O9sVoRAREdWYHFNhqW2J8eEOWlJFXDJI1svLy67XpIiI4N1338UzzzyDIUOGAADmz5+PsLAwLF68GA8//LArwiEiInKJB7rFKM+3HMvAiP/7Aw/fbD8Itv/1LFCqwyU9KEeOHEFkZCRiY2MxfPhwHD9+HACQlJSEtLQ09OvXT2lrNBrRo0cPbNmypczjmUwmZGVl2T2IiIjU9tlvycrzEf/3BwDgo03H7do46lWhijm9QOnUqRM+//xzrFq1Cv/3f/+HtLQ0dO3aFefPn0daWhoAICwszO49YWFhyj5HZs6ciaCgIOURFRXl7LCJiIjKtePEhWq9b2DrCCdHUjs4vUBJTEzE0KFD0bp1a/Tp0wcrVqwAYLuUU6Tk+gMiUu6aBNOmTUNmZqbySElJcXbYRERE5crOr15PSP0Azh5bHS6/zTggIACtW7fGkSNHlHEpJXtL0tPTS/WqFGc0GlG3bl27BxERUU2qYyx72GZ+gaXMfVQ9Li9QTCYTDhw4gIiICMTGxiI8PBxr1qxR9pvNZmzcuBFdu3Z1dShERETVZrHaJltrGhKA5277BwDA6GX7GC1rXZ5QTmlfbU6/i2fKlCkYNGgQmjRpgvT0dLzyyivIysrC/fffD51Oh4kTJ2LGjBlo3rw5mjdvjhkzZsDf3x8jRoxwdihEREROkXm5ANtPXAQAHD+XixZhgQCA2OAAAMDQuVsdvm9K/xY1E6AHcnqBcurUKfzzn/9ERkYGQkJC0LlzZ/z++++Ijo4GAEydOhV5eXl49NFHcfHiRXTq1AmrV69GYGCgs0MhIiJyijYvrbZ77edjmxn2srnsSztrJ/VAs5AAl8blyZxeoCxZsqTc/TqdDtOnT8f06dOd/aOJiIicLrnEtPUA4OddcYFyXWgdl8VUG3AtHiIionL0LDFtPQD4X+lBycgxQURQ19f++/6NUfVqIDLPxgKFiIioCtY8ebNSoADA93+fQdMQ+94S3tVz7VigEBEROXAh14xb3/u11PbrQusoY1AAYNHvJ3HZbD9HysE0ri93rVyyFg8REZE723s6E7e9v7nU9vG9mkGn0yljUADAVGjB4bM5NRlercAChYiIqBgRcViczB7RFrfdEAkA8DJcvQDx96mrc6BEBvniTGY+RnZq4vpAPRwLFCIioiu6vbYOpy/lOdznY6h4VMTH97XH/jNZ6POPsmdHp8phgUJERATAapUyixMAMBa7rFOWkEAj7u7ABW2dgYNkiYiIAOQXln/nTWV6UMLq+jornFqPBQoREdV6VqsgPctUbhujd/kfmdue6ePMkGo9FihERFTrPTh/m8MJ2YozF1rtXj+d2NLudfG5UejasUAhIqJa7Wh6DjYcOme3LcjPu1S7kisTt24UZPfay6BzfnC1GAfJEhFRrdZn1sZS24rPBLt4TCeczzGXmi22ZI+Jt57f+Z2JBQoREdVKzy7fg4W/n3S476brgvHLwXQAQNdmwQ7bGL3sCxS9nj0ozsRyj4iIah2LVcosTrwNOjzaqxkAIKahf5nHMLAgcSn2oBARUa2TW2LtnOL2vtgfRi8Dfp3aC6F1jWW28+aYE5digUJERLXOxVyzw+1NgwOUSzdRDcruPQGA2OAA5fmorjFOi41sWKAQEVGtIiLo8eaGUtt/n3YLGtbxqfRxdDodGtf3w6mLebi1dYQTIySABQoREdUyczYcc7g9PKjqs8D+8NhNOHUxD60bB1XcmKqEBQoREdUaIoI3Vx0qtf2je9tV63j1A3xQP6DyvS5UeSxQiIio1thx4qLd6z/+cwvXz9EoFihERFRrPLJop/J834v9EWDkx6BWcR4UIiLSvJPnL8NUwWrDldEzLkR5zuJE23h2iIhIs95cdRDJGZexYk8qAKBjTAMYvfX4dFQHeBuq/h27aP6T5277h1PjJOdjgUJERJp0ND0HH6y3v+Pmz+QLAIDNRzLQq2VolY+ZlHEZQPkzxJI28BIPERFpUnp2fpn7jF7V+/g6kJoFAKjrYLVi0hb2oBARkSZl55c9Hf1fKZdwLCMXfyZdwKy721Tqck9Gjkl5bi60OiVGch0WKEREpEknz18uc1/xuUx++PsMkl8bWGbbmKdXlNrWtkm9a4qNXM/pl3hmzpyJDh06IDAwEKGhobjzzjtx6JD9pDijRo2CTqeze3Tu3NnZoRARkRua91sSYp5egVdXHlC29YgLwcGXB5T5nt2nLjncfv+nfzrc7u/D7+da5/QCZePGjRg/fjx+//13rFmzBoWFhejXrx9yc3Pt2g0YMACpqanKY+XKlc4OhYiI3ND0H/bbvY4NDsD8BzvC19tQ5nsOn80BAGw8fA7JGVc/bzYePleq7fZn+zgpUnIlp5eQP//8s93rzz77DKGhodixYwduvvlmZbvRaER4eLizfzwREXmY2SPaVthm/cF0HEjNwiebkwAAya8NxL2f/OGwbXAdo1PjI9dw+V08mZmZAIAGDRrYbd+wYQNCQ0MRFxeHMWPGID09vcxjmEwmZGVl2T2IiMjzOBq8GhJ4taBYMLqjw/et2JOqFCdFfj2SUard8A5R1xgh1RSXFigigkmTJuGmm25CfHy8sj0xMRGLFi3CunXr8Pbbb2Pbtm3o3bs3TCaTw+PMnDkTQUFByiMqin9gRESeaPPR0pdk6vtfXYyvW7PgSh2n+GWeIonx4Xht6A3VD45qlE5ExFUHHz9+PFasWIHNmzejcePGZbZLTU1FdHQ0lixZgiFDhpTabzKZ7IqXrKwsREVFITMzE3Xr1nVJ7EREVLO2HMvAiP8rfVmm5B06RXfljOzUBD1bhGLM59tLvScurI4yLgUAfpncA81C6jg5YqqqrKwsBAUFVerz22XDmCdMmIDvv/8emzZtKrc4AYCIiAhER0fjyJEjDvcbjUYYjbxmSETkqbYnXyhVnDzcoynG3dyszPf0bhmK1o2CHO4rXpzMHZnA4sQNOb1AERFMmDAB3377LTZs2IDY2NgK33P+/HmkpKQgIiLC2eEQEZHGFVisuOvDrXbb7u0cjWmJrcp9nwhQP8Cn3DYAkNiany3uyOljUMaPH4+FCxdi8eLFCAwMRFpaGtLS0pCXlwcAyMnJwZQpU7B161YkJydjw4YNGDRoEIKDgzF48GBnh0NERC6w48QF3PT6OizbeeqajpNrKkTzZ34qtb2Ob8Xfn3289BXOIPvQTRV/SSZtcnqBMnfuXGRmZqJnz56IiIhQHl9++SUAwGAwYM+ePbjjjjsQFxeH+++/H3Fxcdi6dSsCAwOdHQ4RETlZfoEFQ+duxamLeZj01d/XdKynl+1xuP3u9mXfDDG+VzPc0jIU3a6zDZi9v0t0mW2f5arFbsulg2RdpSqDbIiI6NqJCHQ6HQDgiSV/4btdZ5R9B14aAD+fsidRK0/JaegPvjwAOabCKs9VkpFjQqCvFw6mZuNf//sDT/Rpjoe6N61WTOQ6Vfn85mrGRERUrgKLFbHTVmL0vG0AAINeZ7d/0OzN1TpufoHF7vWxGbfC19tQrYnUgusYYfQyoE1UPfz9Qj8WJx6ABQoREZVr/KKdAIBfDqbjmW/3YNnO03b7j6bnoDqd8S2fuzrz+IGXBpQqfKpL76TjkLpYoBARUblW7z+rPF/0x0mHbV4ssX6OI48t3omYp1fgq20ppfZV9xIReS4WKEREVC2vD22tPJ+3JRmmQks5rYEfd6cCAKZ+s9tu7Mlbw9q4JkByayxQiIioTLmmQofbGwT4oN8/7Bd8Le+OnqbTVpS5r3F9v+oFRx6NBQoREZVp9vqjpba9PrQ1dj7XF4El5ipZcaWHpLh/L/0bMU+vgLWcISrRDf2vOU7yPCxQiIioTHM3HFOe398lGv3+EYa72tnmKPEy6HFDY/up5lMuXLZ7vXRH+RO53dWuMSKC2INCpblsLR4iIvIsL94RX2rb94/dZDeepPsb6/Hxve2g0+nQpVnDUu0PvjwAD83fjm7XBeORnmWvs0PEAoWIiBwqtFiV57NHtC2zXfJrA+2KlLELdjhst25yD/h6G7DwoU7OC5I8Fi/xEBGRHXOhFRar4KNNx5VtXZqW7g2pigAfA5pyRWGqAvagEBERACArvwD3ffIndqVcKrWvYQWzuw68IcLhIFkA6NMqDO8Nv9EJEVJtwgKFiIgwdO4W7Dhx0eG+qAYVD2L9YEQChiacxYPztpfa9/G97Ti7K1UZL/EQEdVCfxw/j8+3JiO/wAIRKbM4AYBN/+5VqWP2bhmG+Q92BAA0CwlA4/p+eHtYGxYnVC1czZiIqJYpuYJweWYMbo0RnZpUur2IIOVCHhrV93Pa2jrkOary+c1LPEREtUCuqRAj//eHw/ElJY3pHosB8eHw9/FCq4iqfQnU6XRowonXyAlYoBAR1QLXv7CqUu2SXxvo4kiIKocFChGRhym0WLHx8Dl4G/S4kGtGh9gGpdq8/8+2GNQmEvvOZCLzcgFGfbYNS8d1USFaIsdYoBAReZhhH23FXycvOdw3qE0k/jv8Ruh0tvEh10fapqo//GpiTYVHVCksUIiIPMiJ87llFicPdIvBC4Our9mAiKqJBQoRkRvLvFyAjzYdw69HMrDndGa5bSfeEldDURFdOxYoREQ15EBqFhLf+1V5/eOEmxDfKAh3zd2C7ScuYkLv6/BY7+vgY9Arl2DKsz35Au76cKvDfV56HV64/XoM7xCFtMx8AECQv7dzEiGqAZwHhYioBogIYqetLLV99ZM3o987m0pt3/xULzSuX/btuv3f2YRDZ7Md7mtUzw+/Pd27+sESuUhVPr9ZoBARuVCe2YJb3t6AM1d6MarC0S2/O05cxNC5Wxy2f+bWVtDpgAe7xXL2VtIkTtRGRKQBC7Ym47nv9lWq7ZCERli287TdNqtVlELDYhU0+0/pHpiRnZrg1cGtrz1YIo1hDwoRkRPkmAqRdC4Xm49mYGTnJnho/nb8mXShVLvfp92CsLrGUpd7kmbeijOZ+Vh3MB3PLd+rbO8Y0wDnc004di631LF2T++Hur4cV0Lug5d4iIicZOn2FPz7690AgHWTe+Cy2YLQQCNC6/rCahVsOXYeTy/bjVMX8yo81vePdcMNjesBANbuP4uHPret/Lv92T4IrmNU2lW0Vs5nozqgV8vQamZEpB63KVDmzJmDN998E6mpqbj++uvx7rvvonv37hW+jwUKEblK0WJ3z363F5sOn7vm4/35zC0IDfSt0nvGLdiBn/elOdyXNPPWSt3hQ6RFbjEG5csvv8TEiRMxZ84cdOvWDR999BESExOxf/9+NGlS+ZUzicj1MnJM2H8mC8nnc7H3dCa+2n4KLcIC8cmo9kjPNuHMpTycvpiHsTc31fyHZ36BBav2pWF78kVsS76Ag2lX74RpGhwAU6EVpy9V3BtSXMvwQCRE10d4XV8YvfS4bLbgkZ7N4OttqFaMH4xMwOmLeTh0NhvHz+Xg279OY0q/Fuh2XbDmf79EzqJaD0qnTp2QkJCAuXPnKttatWqFO++8EzNnziz3va7qQSmwWHE2Kx9WK6DXA156PQQCEUBgG7AGACKAVcS2TWz7AYFViu0TXH1vsecAUGi1AtDBoNfB38cAL70Oep3todMBer0Oeh2ggw4FFisAwMuggw62f5h0OtvPsFyJp2jOBJ0O0MG2mqhOaWdraxWB1QpYRGC12t5baBWICHQ6HQqtVpgLrcgzW5BXYEF+gQWXzRYUWgQWEVy6XIBLl83w9/FCRD1b13bRseTK76TQKsrP9fHSw1uvV35P3gY9vA06FFgE5kIrBAIvvQ46XVHuuJp/sW26YvsMBh2y8gpwLtuEs1n5OJ9jRlZ+IRrX90NIoFHJyWoVFFis0Ot1OJdtQk5+IQwGHfy9DfD1NqCOrxeC/LxRaLHlbLry36Lfte0cAg0CvNE8NPDq3BFXzmN2fiH0Oh289LZz6G3QK9sLLYIcUyH0ets5KLRYIbANcDRbrCi02M6Fj5ce9f19oNfZ/s68DLbjeF05nrfBts1Lr1Ny0ut18PHSI9DoVRQOANvvJjOvAFax/f4tVrE77xar7XdeaBVcvnJ+jV562+9UD5zPMcPboIe/jwGXzRbkmAphKrDgTGY+9p7OxIVcM9KzTZX6f6hpSAAe7XkdDHrgstmC4+dyodcBAUYv7D6ViR5xIahj9IJVbLFk5xcgx2SBQQ8YdLa/hwYBPqgf4ANvvQ5eBj2K/onSX/lgFgCmQgvyzLa/0QKLFQUWgbdBd+X/L1vOpoKiv2UrLpstuHjZjBxTocNxIeWZ/2BH9IgLQY6pEGv2p6FJA3+88P0+HEjNxt3tG+OpAS1Rz9+nSsckqq00f4nHbDbD398fS5cuxeDBg5XtTzzxBHbt2oWNGzfatTeZTDCZrv4DmZWVhaioKKcXKEfTc9Bn1saKGxKR22saEoCUC5fx0h3xOHnhMrYlXUDnpg3RPKwOercMRSAHnxI5neYv8WRkZMBisSAsLMxue1hYGNLSSl93nTlzJl588UWXx+V15RuqQaeD5UoPQVGPQFGvRPFv+ToA0JXeVrw3o/i+IoZitw3mmgthufKt2nrlG7qtJ8b2X2+DDiJQeksA2zfIot4FwNbzU1GZWRSDQa+D4cq3/6KeGtvP0cPHoIOvjwF+3lceV3p3DHo9An29UN/fBxk5JlzINcP7yjd+g96Wn+33pwdg++Ze9I29aCoGU6EVFqsovQN6HZScldyL9fQU9UIpvT8CmAutCPLzRmhdI4LrGNGwjg8CjV5IPn9Z6SUp6o0qyrlhgI+tt8QqyC+wItdUiAuXzcgvsMBbr4ePV7GHQQ9B0Td5IOXCZexPzYKIrUfNdrp1MHrZ8hYBCqy2XhGdDqhj9IJBr4Ovt+33ZhWBl0EP3ZW/LVuviB46HWAqsOLiZTN0AAqsgsIrvStmixWFV45ZYLH9zgxXemosV3K4bC5Uzn3R34nRy9YDUvS3Zyjqhbpyjr0NthyNVx7Fe1kCfLygv9Lj4W3Qo66vN/x89Aip44uGdWzn/K52jREZ5Kf8vwDYLpWYLVbU9bX1Rv33lyM4npGL8zlmGPQ6+PkYcOJ8Lk5fzMNtN0TicoEFGdkmeBlssfn7GBDo64U6Ru8r59vWA5aamY/LZltvVEGxXrnif+NGLz18vQ0IMBpg0NvOncVqvfL/lx4GPeB7pcfM9tAjyM8bgb7eCA00on10fXgZ9JX5Z4GIVKLqPCglr6UWXW4oadq0aZg0aZLyuqgHxdliggNw+BX3XtFTin3YF/+w5XVrcraiD38A8DLoMalfC5UjIiJPokqBEhwcDIPBUKq3JD09vVSvCgAYjUYYjcZS26k0nU4HQ1HXDhERkZtSpY/Tx8cH7dq1w5o1a+y2r1mzBl27dlUjJCIiItIQ1S7xTJo0Cffeey/at2+PLl264OOPP8bJkycxbtw4tUIiIiIijVCtQLnnnntw/vx5vPTSS0hNTUV8fDxWrlyJ6OhotUIiIiIijeBU90RERFQjqvL5zfvsiIiISHNYoBAREZHmsEAhIiIizWGBQkRERJrDAoWIiIg0hwUKERERaQ4LFCIiItIcVRcLrK6iqVuysrJUjoSIiIgqq+hzuzJTsLllgZKdnQ0ALlnRmIiIiFwrOzsbQUFB5bZxy5lkrVYrzpw5g8DAQOh0lVu1NysrC1FRUUhJSfGI2WeZj/Z5Wk7MR9uYj/Z5Wk7VyUdEkJ2djcjISOj15Y8yccseFL1ej8aNG1frvXXr1vWIP4wizEf7PC0n5qNtzEf7PC2nquZTUc9JEQ6SJSIiIs1hgUJERESaU2sKFKPRiBdeeAFGo1HtUJyC+Wifp+XEfLSN+Wifp+Xk6nzccpAsERERebZa04NCRERE7oMFChEREWkOCxQiIiLSHBYoREREpDksUIgIQOXWxiD18PxoG8+P83lcgeIpfySpqam4cOGC2mG4hCecI087P+np6coaV4D7n6N9+/Zh6tSpOHz4sNqhOAXPj7Z52vkBtHGO3LpAMZvNeP311zF79mxs3LgRACq9No9Wmc1mjBw5Et26dcOhQ4fUDueaedo58rTzU1hYiNGjR6Njx47o06cPRo4ciYyMDLc9R2azGQ888ABat26N/Px8xMTEqB3SNeH50TZPOz+Axs6RuKmVK1dKw4YNpXPnzpKQkCD169eXZ555RvLy8tQOrdree+898fPzk65du8pff/2ldjjXzNPOkaedn4KCAhk5cqR07txZNmzYILNmzZL4+Hjp3r277N+/X+3wquyTTz6RwMBA6dq1q+zevdtun9VqVSmq6uP50TZPOz8i2jtHblugDBs2TB5++GEREblw4YIsXbpUjEajvPPOO3L58mWVo6u6ESNGiE6nk7lz5yrbsrKyVIzo2nnSOfLE83Py5Elp3ry5LFiwQNmWmpoqjRo1kgkTJkhaWpqK0VVd165dpVWrVnLx4kUREdmxY4esXLlSDh06pBTF7vRByPOjbZ52fkS0d47cskA5duyYNGrUSBYuXGi3fcKECdKuXTtZvXq1SpFV36effirNmjWTzZs3y8mTJ+Xhhx+Wu+66Sx566CFZunSp2uFV2fHjxz3iHBUUFIiI550fEZG//vpL/Pz85MiRIyIikp+fLyIis2fPlhYtWshXX32lZniVVvQP5pYtW6Rp06by4osvyu233y5NmzaV66+/XsLCwmT48OEqR1l1nnJ+iv4f4vnRrsLCQhHR3jlyiwJl1apVsmvXLuWXaLVaJTQ0VObMmSMionwbz8jIkJYtW8qTTz4p2dnZqsVbGSVzEhHp3bu3REdHS0REhNx1110ybdo0ueWWW0Sn08n333+vYrQVO3r0qF1lbbFY3PoclcxHxL3Pz6uvvirPP/+8fPHFF8q2/Px8iY6OlhdeeEFERMxms7Kvffv28sADDyj/6GqNo3xEREaNGiW+vr4yatQo2bVrl+zevVt++OEH8fX1lZdeekmlaCu2YsUKEbH/dnr58mWJjY11y/NTMp+i/z7wwANueX4++ugj+fjjj2Xjxo3KtpycHLc9PyJXc9qwYYPddi2dI00XKJ999pmEh4dL69atJTAwUB599FE5ffq0iIg8/PDDcsMNNyhti/44XnvtNYmKilK6qLTGUU4nTpwQEZGtW7dK27Zt5auvvrIrXMaMGSPNmze3+x9AKz755BNp0qSJtGvXTjp16iQLFixQYh87dqzbnaOS+SxcuFBMJpOI2L5duNv5+eOPP6RJkyaSkJAgiYmJEhgYKEOHDpVjx46JiMiUKVMkLi5Ozp49KyKidOPOnz9f6tWrp7nxQo7yueuuu+TAgQMiIpKWlibPPvus8u9EkbfeekuCg4M1d45+/PFHadSokeh0Ovntt99ExFbci9gKlKlTp7rV+XGUj9VqVf5/SU9Pd6vzs3jxYgkNDZUuXbrIjTfeKCEhIfLqq6+KiEhmZqbbnR8RxznNmDFD2a+lc6TZAuV///ufXHfddfLFF1/IuXPnZNGiRRIQECC7du0SEZFvvvlGWrZsKe+++66IXO1eO3funPj5+cmvv/6qWuxlcZRTnTp17AZcbtmypdTYhgMHDoiPj49s2bKlhiMu37vvvqvks3nzZnn++edFp9PJnDlzxGq1yg8//CBxcXFuc44c5aPX6+WDDz5QYt+8ebPbnB8RkUmTJsnAgQNFxPbBt2fPHomOjpZx48bJpUuX5Pfff5eEhAR59NFHReTqN93169dLaGio/P3336rF7khZ+TzyyCPKP6iOxgZ98cUXUr9+fdmzZ0+NxlueX3/9VQYMGCCPPfaYJCYmSvv27Uu1Wbt2rXTo0MEtzk9F+RTFnpubW+q9Wjw/ixYtkjZt2siHH34oIiKnT5+W2bNnS0BAgGRmZoqIyJo1a9zm/IiUn1Px/2+0co40V6AUVdsjRoyQe++9125fXFyc7Ny5U0Rs35Qef/xxiYqKsqv0Vq9eLU2aNFEKGS2oKKeyYi36JvW///1PwsLCNPU/b25urvTt21fp3iz6H7N79+7SuHFj+fnnnyU/P18mTJjgFueovHyio6Nl2bJlpd6j5fNjtVrl0qVLctNNN8mUKVNE5Gq8c+bMkbZt2yr/SL3zzjvi7+8vy5YtU3qLXnnlFenZs6dmBi1WlE+7du3kvffeK/P9jzzyiAwZMqRGYq1I0e/08OHDMmvWLDl+/Lhs375d/P395X//+5+IXB23kZeXJ++8844EBARo9vxUJp+ic1UWLZ6fefPmydixY+0G9G/evFni4uJk69atIuIe50ekcjn98ccf5R5DjXOkuQKlyI033igPPfSQMhJ6woQJ0qJFC5k+fbryTfXYsWNKN9XChQvlyJEjMnz4cOnTp4/DClBt5eW0detWh92Bp0+flqFDh8q4ceM088cuImIymaRBgwayePFiEbnatTl06FCJjIyUe++9V7Kzs+Xw4cPSrVs3zZ+jivK577775Ny5c6Xep6Xzs2PHDrl06ZLdtvbt2yt3UhX1ApnNZhkyZIjcfvvtcvr0aTGbzfLvf/9bAgMDpUePHjJs2DDx8/OTDz74QETUu7OiqvkMHjxYjh8/rrRNSkqSo0ePyujRo6VJkyayfPlyEdFWPkWXPgoKCmTy5MkSEhKi5FW0LysrS6ZOneoW56e8fErS4vkpftn50qVLdpdyRUR27dol4eHhcuHCBWWbVs+PSPVzKqL2OVK9QPnqq6/koYceknfffdfuvuslS5ZIdHS09OvXTxo2bCgtW7aUl156SXr16iU33HCDvPbaayJi60kZMGCAtGrVSho1aiTdunWTpKQklbKxqU5Obdq0Ua5tXrx4Ub744gt58sknpWHDhtK/f/9S1wNrUln5/POf/5SWLVvKqVOnRERk4cKF0qtXL3nooYfkuuuuU7o3tXaOqpNP8d47rZ2fr7/+Who3bizNmjWTJk2ayPPPP6/k8N5770mdOnWUYrDoG94333wjjRs3VsYJiIgsXbpUXnjhBRk3bpwypkMN1c0nKipKyefAgQMyfvx4CQ0NlZ49e8qhQ4fUSUYc55Oamioitn/oi/6xP378uERFRcnkyZNFpHSvw1dffaXZ81OZfIp/qB08eFCz5+e5556zu0W4+HmYNWuWdOvWTUSu/u0V0cr/PyLVz6n4+BItnCPVCpSMjAy56667JDw8XMaNGyc33XSTREZGymeffaa0SU9PlzfffFN69Ohhd31szJgxMnjwYLuBSampqap3sTsjp0uXLklGRobSRs27QxzlExERIZ9//rmI2Lp0mzZtKk2bNpXIyEjx9/eXb775RkREvLy8lJH8IrZvu2qfI2flk5qaKm+99Zbq50dEZNu2bcpYrL///lvmzJkjISEh8sgjj8ilS5fkxIkT0qxZM6XXofg/QA0bNpRPPvlErdAdutZ8ii4p5OTkyJo1a2TTpk2q5FGkvHzOnz8vImJ3d+KcOXPEy8tL6QkymUzKeActuNZ88vPzxWQySWFhoaxatcotzo/FYlEuuQ0ePFjGjx+vZsgVclZOubm5snr1alXPkWoFytKlS6Vjx47KNyMRkTvuuENiY2OV6/0FBQUyfPhweeWVV0TkasU6adIkadasmeTk5IiIdib3cUZORdcGtXALbln5xMTEyLfffisiIikpKbJq1SqZP3++8mGRnp4uTZs21dz8INeaT/F5DdQ+P0V/83PnzpXGjRvbfYjNnj1bOnbsKDNnzhQRkQ8++EAMBoPdLZLHjh2TZs2aKQWY2pyVz9dff12zgZehonw6d+4sL7/8cqn3nT9/Xrp27Sp33HGH7NixQ/r16ycLFixQ/d84Z+XTt29ft8zHYrGI1WqVZs2ayY8//igiIocOHZLhw4fLyZMnazb4MnhiTqqtxbN48WI0btwYjRo1Qk5ODgBg8ODBSE5OxgcffID09HR4eXnh/Pnz2L59OwDAx8cHZ8+exeHDhzF8+HAEBAQA0M7aLs7Iyc/PDwBQp04d1fIoUlY+J06cwOzZs3Hu3Dk0btwYffr0wX333Qdvb28AwPr16+Hj44ObbrpJzfBLudZ8unfvrhxL7fNT9DeflJSEuLg4eHl5KftGjRqFDh064LvvvsPhw4fxyCOPYPjw4bjnnnvw0ksvYdeuXXjjjTfg7++Pzp07q5WCHWfl06VLF7VSsFNRPu3atcNPP/2Effv2AQAsFgsAoEGDBhgzZgy+//57dOjQAT4+Phg6dKjq/8Y5Kx+j0YghQ4a4XT56vR7btm2Dv78/EhISMHHiRNxwww04f/48QkNDVcmhJE/MqUYKlE2bNmHVqlUoLCxUtjVv3lz5RRX9Y3/w4EH07t0b+fn5WL58OQBg2rRpWLFiBbp164ZHH30U7du3R1ZWFsaOHVsToZfJ03K6lnz0ej3OnTuHgwcPYvbs2XjyyScxZMgQBAcHq7aqp6fls2bNGjz++ON477338Oeffyrbu3Xrhi1btiAtLQ2A7YMhICAAd9xxB/R6PVasWAGdToeFCxdi2LBh+PbbbzFs2DBs27YNixYtQmRkJPNRKR+dTofVq1cDAAwGA8xmM+bMmYPRo0fj5ptvxu7du/HDDz8oX1o8JR9/f3+3ywcAVq5cib1796JFixZYs2YNfvvtN6xevRpGo7HG8wE8M6dSXNk9c+7cObnvvvtEp9NJmzZt7AZGHjt2TEJCQqRHjx7y+uuvS5cuXSQ2NlZ++eUXadOmjTz77LNK22+//VaeeuopGTFihOrTB3taTteSz3PPPae03bFjh9x5550SGxtrtzZFTfO0fM6cOSO33XabhIaGysiRI6V169YSFBSk3BKYl5cnLVu2lLFjx4qI/eC37t27yyOPPKK8tlgskpubKwcPHqzZJIphPvb5FM2fIWIbTP7EE0/I/PnzazaJYphP2fm88sorEhISovplUU/MqSwuK1AKCgpkzpw50r9/f1myZIn4+/vLzJkz7W4527x5s4wZM0YSEhLkscceU27jvPfee2Xo0KGuCq3aPC0nZ+dTdJeLWjwtn9zcXLn//vvlnnvusbt9tkOHDjJq1CgRsQ1I/Pzzz0Wv19vdkSMiMnLkSOnVq5fyWu3r/syn/HzUxnxK59OzZ0/ldXp6es0EXg5PzKk8Lu1B+f333+WHH34QEZEXX3xRQkJCHC5TX/x2rbNnz0p8fLwyiLSiCX5qmqfl5Ix8ikaDa4Gn5TN27Fj56aefRORqXC+++KJ06tRJaZOfny+DBw+WVq1ayYYNG8RqtUpqaqp07NhRuatFK5gP86lJnpaPiGfmVBaXFiglv+FERkbK2LFjldtri+/Py8sTs9mszHJZfH4KLfG0nJiPtvMpfhttUez/+te/ZMyYMXbb8vLypGfPnhIaGir9+vWTyMhI6dy5s2ZG4xdhPsynJnlaPiKemVNZauQ246Jvq1999ZV4eXnJ6tWr7fafOnVK5syZI+3bt7ebzVPLPC0n5qPtfIrr3r27MrdO8YXY0tLSZPXq1fLqq6/KokWLVIywapiPtjEf7fPEnERUmAelS5cu0qdPH2WStaJrYIsXL5a33nqrpsNxCk/Liflo17FjxyQsLEy2b9+ubCs5o6U7YT7axny0zxNzKlJjBUrRtbK9e/eKwWCQ9957Tx5//HFJSEhQfQbY6vK0nJiPdhV1286fP1+aNWumbJ8+fbqMGzdOKb7cBfPRNuajfZ6YU0mqzCTboUMH0el0Eh0dLT///LMaITidp+XEfLRp/PjxMnXqVFm9erXExMRIaGiorFq1Su2wqo35aBvz0T5PzKlIjRYoR48elfj4eLtluN2dp+XEfLQrLy9PrrvuOtHpdGI0GpUFM90V89E25qN9nphTcV4VT+XmPAaDAUOHDsVTTz2lyuyIruBpOTEf7fL19UVMTAz69u2LWbNmwdfXV+2Qrgnz0Tbmo32emFNxOhGV5u4moiqzWCwwGAxqh+E0zEfbmI/2eWJORVigEBERkeaotpoxERERUVlYoBAREZHmsEAhIiIizWGBQkRERJrDAoWIiIg0hwUKERERaQ4LFCIiItIcFihERESkOSxQiMglRo0aBZ1OB51OB29vb4SFhaFv37749NNPYbVaK32cefPmoV69eq4LlIg0iQUKEbnMgAEDkJqaiuTkZPz000/o1asXnnjiCdx2220oLCxUOzwi0jAWKETkMkajEeHh4WjUqBESEhLwn//8B9999x1++uknzJs3DwAwa9YstG7dGgEBAYiKisKjjz6KnJwcAMCGDRvwwAMPIDMzU+mNmT59OgDAbDZj6tSpaNSoEQICAtCpUyds2LBBnUSJyOlYoBBRjerduzfatGmDZcuWAQD0ej3++9//Yu/evZg/fz7WrVuHqVOnAgC6du2Kd999F3Xr1kVqaipSU1MxZcoUAMADDzyA3377DUuWLMHu3bsxbNgwDBgwAEeOHFEtNyJyHi4WSEQuMWrUKFy6dAnLly8vtW/48OHYvXs39u/fX2rf0qVL8cgjjyAjIwOAbQzKxIkTcenSJaXNsWPH0Lx5c5w6dQqRkZHK9j59+qBjx46YMWOG0/MhoprlpXYARFT7iAh0Oh0AYP369ZgxYwb279+PrKwsFBYWIj8/H7m5uQgICHD4/p07d0JEEBcXZ7fdZDKhYcOGLo+fiFyPBQoR1bgDBw4gNjYWJ06cwK233opx48bh5ZdfRoMGDbB582aMHj0aBQUFZb7farXCYDBgx44dMBgMdvvq1Knj6vCJqAawQCGiGrVu3Trs2bMHTz75JLZv347CwkK8/fbb0OttQ+K++uoru/Y+Pj6wWCx229q2bQuLxYL09HR07969xmInoprDAoWIXMZkMiEtLQ0WiwVnz57Fzz//jJkzZ+K2227Dfffdhz179qCwsBDvv/8+Bg0ahN9++w0ffvih3TFiYmKQk5ODX375BW3atIG/vz/i4uIwcuRI3HfffXj77bfRtm1bZGRkYN26dWjdujVuvfVWlTImImfhXTxE5DI///wzIiIiEBMTgwEDBmD9+vX473//i++++w4GgwE33ngjZs2ahddffx3x8fFYtGgRZs6caXeMrl27Yty4cbjnnnsQEhKCN954AwDw2Wef4b777sPkyZPRokUL3H777fjjjz8QFRWlRqpE5GS8i4eIiIg0hz0oREREpDksUIiIiEhzWKAQERGR5rBAISIiIs1hgUJERESawwKFiIiINIcFChEREWkOCxQiIiLSHBYoREREpDksUIiIiEhzWKAQERGR5vw/7Qk+WMdbakoAAAAASUVORK5CYII=\n",
      "text/plain": [
       "<Figure size 640x480 with 1 Axes>"
      ]
     },
     "metadata": {},
     "output_type": "display_data"
    }
   ],
   "source": [
    "apple_share_price_data.plot(x=\"Date\", y=\"Open\")"
   ]
  },
  {
   "cell_type": "markdown",
   "metadata": {},
   "source": [
    "### Extracting Dividends\n"
   ]
  },
  {
   "cell_type": "markdown",
   "metadata": {},
   "source": [
    "Dividends are the distribution of a companys profits to shareholders. In this case they are defined as an amount of money returned per share an investor owns. Using the variable `dividends` we can get a dataframe of the data. The period of the data is given by the period defined in the 'history` function.\n"
   ]
  },
  {
   "cell_type": "code",
   "execution_count": 11,
   "metadata": {},
   "outputs": [
    {
     "data": {
      "text/plain": [
       "Date\n",
       "1987-05-11 00:00:00-04:00    0.000536\n",
       "1987-08-10 00:00:00-04:00    0.000536\n",
       "1987-11-17 00:00:00-05:00    0.000714\n",
       "1988-02-12 00:00:00-05:00    0.000714\n",
       "1988-05-16 00:00:00-04:00    0.000714\n",
       "                               ...   \n",
       "2023-02-10 00:00:00-05:00    0.230000\n",
       "2023-05-12 00:00:00-04:00    0.240000\n",
       "2023-08-11 00:00:00-04:00    0.240000\n",
       "2023-11-10 00:00:00-05:00    0.240000\n",
       "2024-02-09 00:00:00-05:00    0.240000\n",
       "Name: Dividends, Length: 82, dtype: float64"
      ]
     },
     "execution_count": 11,
     "metadata": {},
     "output_type": "execute_result"
    }
   ],
   "source": [
    "apple.dividends"
   ]
  },
  {
   "cell_type": "markdown",
   "metadata": {},
   "source": [
    "We can plot the dividends overtime:\n"
   ]
  },
  {
   "cell_type": "code",
   "execution_count": 12,
   "metadata": {},
   "outputs": [
    {
     "data": {
      "text/plain": [
       "<AxesSubplot:xlabel='Date'>"
      ]
     },
     "execution_count": 12,
     "metadata": {},
     "output_type": "execute_result"
    },
    {
     "data": {
      "image/png": "iVBORw0KGgoAAAANSUhEUgAAAiwAAAGYCAYAAABhxLkXAAAAOXRFWHRTb2Z0d2FyZQBNYXRwbG90bGliIHZlcnNpb24zLjUuMywgaHR0cHM6Ly9tYXRwbG90bGliLm9yZy/NK7nSAAAACXBIWXMAAA9hAAAPYQGoP6dpAABEk0lEQVR4nO3deViU5foH8O+wuwBuLKKIqKCihgLKYpaW4pKltogtmB3TQ/orzcqOp9JckqyTRy0xO5lmbmhlm0uQZW5kSa65r6BCiAoDyDpz//5ARkdAGcB53xm+n+viOvHyzPjcB4b58r7P+9waEREQERERqZiN0hMgIiIiuhMGFiIiIlI9BhYiIiJSPQYWIiIiUj0GFiIiIlI9BhYiIiJSPQYWIiIiUj0GFiIiIlI9BhYiIiJSPQYWIiIiUj276jwoLi4O77//PtLS0tCpUyfMmzcPvXr1qnDs119/jUWLFmHfvn0oLCxEp06d8Pbbb6N///6GMcuWLcNzzz1X7rH5+flwcnKq0pz0ej0uXrwIZ2dnaDSa6pRFREREZiYiyMnJgZeXF2xsKj+PYnJgiY+Px8SJExEXF4eePXti8eLFGDhwIA4fPoxWrVqVG79t2zb069cPs2fPRqNGjbB06VI8/PDD2L17N7p162YY5+LigmPHjhk9tqphBQAuXrwIb29vU8shIiIiFUhNTUXLli0r/brG1OaHoaGhCAoKwqJFiwzHOnbsiKFDhyI2NrZKz9GpUydERUVh6tSpAErPsEycOBFZWVmmTMVIdnY2GjVqhNTUVLi4uFT7eYiIiMh8tFotvL29kZWVBVdX10rHmXSGpaioCMnJyfjXv/5ldDwyMhK7du2q0nPo9Xrk5OSgSZMmRsdzc3Ph4+MDnU6Hrl27YubMmUZnYG5VWFiIwsJCw+c5OTkASs/UMLAQERFZljst5zBp0W1mZiZ0Oh08PDyMjnt4eCA9Pb1Kz/HBBx8gLy8Pw4cPNxzr0KEDli1bhu+++w6rV6+Gk5MTevbsiRMnTlT6PLGxsXB1dTV88HIQERGR9arWXUK3piARqdJC19WrV+Ptt99GfHw83N3dDcfDwsLwzDPPIDAwEL169cLatWvh7++PDz/8sNLnmjJlCrKzsw0fqamp1SmFiIiILIBJl4SaNWsGW1vbcmdTMjIyyp11uVV8fDxGjx6NdevWoW/fvrcda2Njg+7du9/2DIujoyMcHR2rPnkiIiKyWCadYXFwcEBwcDASExONjicmJiIiIqLSx61evRqjRo3CqlWr8NBDD93x3xER7Nu3D82bNzdlekRERGSlTL6tedKkSYiOjkZISAjCw8PxySefICUlBTExMQBKL9VcuHABy5cvB1AaVkaOHIn58+cjLCzMcHamXr16htXA06dPR1hYGPz8/KDVarFgwQLs27cPCxcurK06iYiIyIKZHFiioqJw+fJlzJgxA2lpaejcuTM2btwIHx8fAEBaWhpSUlIM4xcvXoySkhKMHz8e48ePNxx/9tlnsWzZMgBAVlYWxo4di/T0dLi6uqJbt27Ytm0bevToUcPyiIiIyBqYvA+LWmm1Wri6uiI7O5u3NRMREVmIqr5/s5cQERERqR4DCxEREakeAwsRERGpHgMLERERqZ7JdwkRERGR9ZibcAy/nb5SpbGzhnWGv4fzXZ5RxRhYiIiI6qjUK9ew4OeTVR6fW1hyF2dzewwsREREddTuM6VnVtp7OGNiX787jvdt2uBuT6lSDCxERER11G+nLwMA+nRwx8Au6m6Hw0W3REREddTuM6WBJbRNE4VncmcMLERERHXQxax8pF7Jh40GCPFprPR07oiBhYiIqA4qO7vSpYUrnJ3sFZ7NnTGwEBER1UG7r9/KHNqmqcIzqRoGFiIiojqo7A6hUF/1r18BGFiIiIjqnAxtAc5k5kGjAUJaM7AQERGRCv12/exKQHMXuNZT//oVgIGFiIioztl9ff+VUF/LWL8CcOM4IiIiq1FUosfPRzOQd4ct9H89fgmAZey/UoaBhYiIyEos23UGszcerdJYjQboYSHrVwAGFiIiIqux9VjpmZOOzV3g5ux427G9/d3QuIGDOaZVKxhYiIiIrEBRiR5/plwFAMwf0RX+Hs4Kz6h2cdEtERGRFThwPgsFxXo0aeAAP/eGSk+n1jGwEBERWYGbN4LTaDQKz6b2MbAQERFZgd8MtypbzkJaUzCwEBERWbhinR7J50rXr1hKbyBTMbAQERFZuEMXsnGtSIdG9e3R3soW25ZhYCEiIrJwv13vvNyjdRPY2Fjf+hWAgYWIiMji7T5zff2KlV4OAhhYiIiILFqJTo89Z6+vX7HSBbcAAwsREZFFO5ymRW5hCZyd7NCxuYvS07lruNMtERGRSi3ZcQbv/3gUOr1UOqbsS6G+TWBrpetXAAYWIiIi1Vq3JxUFxfoqjX040Osuz0ZZDCxEREQqVKLT43RmHgDgqxci4NXIqdKxTna2FtXIsDoYWIiIiFQo9Wo+ikr0cLK3QVfvRlZ9uacquOiWiIhIhU78nQMAaOvWsM6HFYCBhYiISJVOZOQCgFV2Xq4OBhYiIiIVOlkWWKx0q31TMbAQERGp0ImM0ktC7XiGBQADCxERkero9WI4w+LPMywAGFiIiIhU50JWPgqK9XCws4F343pKT0cVGFiIiIhUpuxyUJtmDWBny7dqgIGFiIhIdU78zQW3t2JgISIiUhne0lweAwsREZHKMLCUx8BCRESkIiKCk9d3ufXzYGApw8BCRESkIhezC5BXpIOdjQY+TRsoPR3VYGAhIiJSkbIeQr7NGsCedwgZ8P8JIiIiFeGGcRWzU3oCREREdcXJjFwkn7ty2zFbjmQA4Jb8t2JgISIiMgO9XvDk/37DpZzCKo3nGRZjDCxERERmcO7KNVzKKYSDrQ3u829227HuLk54sKO7mWZmGRhYiIiIzODQhWwAQICXCz59trvCs7E81Vp0GxcXB19fXzg5OSE4OBjbt2+vdOzXX3+Nfv36wc3NDS4uLggPD8ePP/5YbtxXX32FgIAAODo6IiAgAOvXr6/O1IiIiFSpLLB0buGi8Ewsk8mBJT4+HhMnTsQbb7yBvXv3olevXhg4cCBSUlIqHL9t2zb069cPGzduRHJyMvr06YOHH34Ye/fuNYxJSkpCVFQUoqOjsX//fkRHR2P48OHYvXt39SsjIiJSkUMXSwNLlxauCs/EMmlEREx5QGhoKIKCgrBo0SLDsY4dO2Lo0KGIjY2t0nN06tQJUVFRmDp1KgAgKioKWq0WmzZtMowZMGAAGjdujNWrV1fpObVaLVxdXZGdnQ0XF6ZXIiJSDxFB1xmJyM4vxg8v3ovODC0GVX3/NukMS1FREZKTkxEZGWl0PDIyErt27arSc+j1euTk5KBJkyaGY0lJSeWes3///rd9zsLCQmi1WqMPIiIiNTp/NR/Z+cVwsLXh3T/VZFJgyczMhE6ng4eHh9FxDw8PpKenV+k5PvjgA+Tl5WH48OGGY+np6SY/Z2xsLFxdXQ0f3t7eJlRCRERkPgevr19p7+kMBzvu2Vod1fp/TaPRGH0uIuWOVWT16tV4++23ER8fD3d349u1TH3OKVOmIDs72/CRmppqQgVERETmc2PBLS8FVZdJtzU3a9YMtra25c58ZGRklDtDcqv4+HiMHj0a69atQ9++fY2+5unpafJzOjo6wtHR0ZTpExERKeIg7xCqMZPOsDg4OCA4OBiJiYlGxxMTExEREVHp41avXo1Ro0Zh1apVeOihh8p9PTw8vNxzJiQk3PY5iYiILIGI4K+LpessO3vxDEt1mbxx3KRJkxAdHY2QkBCEh4fjk08+QUpKCmJiYgCUXqq5cOECli9fDqA0rIwcORLz589HWFiY4UxKvXr14Opa+o2bMGEC7rvvPsyZMwdDhgzBt99+i59++gk7duyorTqJiIgUcTG7AFfyimBno0F7Ty64rS6T17BERUVh3rx5mDFjBrp27Ypt27Zh48aN8PHxAQCkpaUZ7cmyePFilJSUYPz48WjevLnhY8KECYYxERERWLNmDZYuXYp77rkHy5YtQ3x8PEJDQ2uhRCIiIuWUrV/x83CGk72twrOxXCbvw6JW3IeFiIjU6IOEY/jw55MYHtIS7z0eqPR0VOeu7MNCREREpuEdQrWDzQ+JiIiqIb9Ih38s+wOnLuXedtzlvCIADCw1xcBCRERUDTtOZiLp9OUqjXVzdkRAcy5XqAkGFiIiomrYfT2sDL6nOcb1bnfbsd5N6nHBbQ0xsBAREVXD7jNXAAD9AjwQ4MWzJ3cbF90SERGZSFtQjL8uli6mDfVtqvBs6gYGFiIiIhPtOXsFegF8mtaHp6uT0tOpExhYiIiITLT7dOnloFDfJgrPpO5gYCEiIjLRb2fKAgsvB5kLAwsREZEJcgtLDJvBhbbhGRZzYWAhIiIyQfK5q9DpBS0b10PLxvWVnk6dwcBCRERkgrL9V3g5yLwYWIiIiExQtv8KLweZFzeOIyIiAlBQrMOq3SnIulZU6RgBcOB8FgAgjGdYzIqBhYiICMB3+y9ixg+HqzS2RaN68G5S7y7PiG7GwEJERAQg5fI1AEDH5i7o0bpxpeM0Gg0euqc5NBqNuaZGYGAhIiICAGTkFAAABnX2xIsP+ik8G7oVF90SEREByMgpBAB4uHCrfTViYCEiIgKQoS0NLG4ujgrPhCrCwEJERIQbl4TcnRlY1IiBhYiI6rwSnR6X80pvZ3Z35iUhNWJgISKiOi8ztwgigK2NBk0bOCg9HaoAAwsREdV5ZZeD3Bo6wsaGtyurEQMLERHVeX9fX3DrzgW3qsXAQkREdR4X3KofAwsREdV5GYYzLFxwq1YMLEREVOeVbRrHMyzqxcBCRER1Xoa27JIQz7CoFQMLERHVeTzDon4MLEREVOeVLbplHyH1YmAhIqI6TacXZOZe3+WWtzWrFgMLERHVaZfzCqHTCzQacJdbFWNgISKiOq3sluamDRxhZ8u3RbXid4aIiOq0S1xwaxEYWIiIqE67seCWgUXNGFiIiKhOM+xyyz1YVI2BhYiI6rS/y/oI8QyLqjGwEBFRnXbjDAsDi5oxsBARUZ1m2OWWm8apGgMLERHVabxLyDIwsBARUZ0lIoa7hHiGRd0YWIiIqM66eq0YxToBALg15BkWNWNgISKiOqvs7EqTBg5wsONboprxu0NERHUW7xCyHHZKT4CIiOhuSL1yDeuSz6NYp690zIm/cwEAbgwsqsfAQkREVundzUex4UBalcZ6N6l/l2dDNcXAQkREVunIRS0A4OFAr9te8nG0s8HTYT7mmhZVEwMLERFZncISHc5ezgMAvPVQR96ybAW46JaIiKzOmcw86AVwcbLj+hQrwcBCRERW5/j1xbR+Hs7QaDQKz4ZqAwMLERFZnZN/5wAA/NwbKjwTqi3VCixxcXHw9fWFk5MTgoODsX379krHpqWl4amnnkL79u1hY2ODiRMnlhuzbNkyaDSach8FBQXVmR4REdVxJzJKz7C0Y2CxGiYHlvj4eEycOBFvvPEG9u7di169emHgwIFISUmpcHxhYSHc3NzwxhtvIDAwsNLndXFxQVpamtGHkxMXSRERkenKAou/h7PCM6HaYnJgmTt3LkaPHo3nn38eHTt2xLx58+Dt7Y1FixZVOL5169aYP38+Ro4cCVdX10qfV6PRwNPT0+iDiIjIVEUlepzNLL1DyM+DZ1ishUmBpaioCMnJyYiMjDQ6HhkZiV27dtVoIrm5ufDx8UHLli0xePBg7N2797bjCwsLodVqjT6IiIjOXc5DiV7Q0NEOnryd2WqYFFgyMzOh0+ng4eFhdNzDwwPp6enVnkSHDh2wbNkyfPfdd1i9ejWcnJzQs2dPnDhxotLHxMbGwtXV1fDh7e1d7X+fiIisx83rV3iHkPWo1qLbW38ARKRGPxRhYWF45plnEBgYiF69emHt2rXw9/fHhx9+WOljpkyZguzsbMNHampqtf99IiKyHmX9gXiHkHUxaafbZs2awdbWttzZlIyMjHJnXWrCxsYG3bt3v+0ZFkdHRzg6cjMgIiIydiLj+i3NXL9iVUw6w+Lg4IDg4GAkJiYaHU9MTEREREStTUpEsG/fPjRv3rzWnpOIiOqGG2dYeIeQNTG5l9CkSZMQHR2NkJAQhIeH45NPPkFKSgpiYmIAlF6quXDhApYvX254zL59+wCULqy9dOkS9u3bBwcHBwQEBAAApk+fjrCwMPj5+UGr1WLBggXYt28fFi5cWAslEhFRXVGi0+N0JvdgsUYmB5aoqChcvnwZM2bMQFpaGjp37oyNGzfCx6e002VaWlq5PVm6detm+O/k5GSsWrUKPj4+OHv2LAAgKysLY8eORXp6OlxdXdGtWzds27YNPXr0qEFpRERU15y7cg3FOkE9e1u0aFRP6elQLdKIiCg9idqg1Wrh6uqK7OxsuLi4KD0dIiJSwOZD6YhZkYwuLVzx/Yv3Kj0dqoKqvn+zlxAREVmNkxnsIWStTL4kREREZG6FJTpEf/o7jqTdfpPQghIdAKAd7xCyOgwsRESkegfOZ+P3s1eqNNbWRoN72zW7yzMic2NgISIi1Tt4PhsA0MuvGWYO6Xzbsa717NG4gYM5pkVmxMBCRESqd+hiaWAJ9mmM1s0aKDwbUgIX3RIRkeodulAaWDp7uSo8E1IKAwsREalafpEOJ683NOzSkoGlrmJgISIiVTucpoVegGYNHeHuzB5ydRUDCxERqdpf19evdGnhAo1Go/BsSCkMLEREpGpldwh1bsHLQXUZAwsREanaoYulm8UxsNRtDCxERKRaBcU6nPi7dLv9LgwsdRoDCxERqdax9ByU6AVNGjiguauT0tMhBTGwEBGRah28cGP9Chfc1m0MLEREpFpldwh19nJReCakNAYWIiJSrbIzLFy/QuwlREREZqfTC9bvvYAreYWVjhEpXcMC8A4hYmAhIiIFbDqUhlfX7a/S2Mb17dGycb27PCNSOwYWIiIyu+RzVwEAHTydEXCb9SkaaDCoiycX3BIDCxERmV9Z9+Wx97XBo0EtFZ4NWQIuuiUiIrPS6wV/Xd+9lotpqaoYWIiIyKxOZ+bhWpEO9ext0catodLTIQvBwEJERGZVtrdKgJcLbG24NoWqhoGFiIjMytB9mZvBkQkYWIiIyKwOXT/D0onrV8gEDCxERGQ2er3grwtccEumY2AhIiKzSblyDTmFJXCws0E7dy64papjYCEiIrMp6w3UsbkL7G35FkRVx58WIiIym0PsvkzVxMBCRERmc4jdl6maGFiIiMgsRASHri+4ZfdlMhUDCxERmcX5q/nIzi+Gva0Gfh5ccEumYfNDIiKqsU0H0/D6VwdQWKKvdIxeBADQ3tMZjna25poaWQkGFiIiqrGlu85CW1BSpbGRAZ53eTZkjRhYiIioRrLzi5F87ioA4KsXIuDh4ljpWAdbG7i7OJlramRFGFiIiKhGdp7MhE4vaOvWAME+jZWeDlkpLrolIqIa+eVoBgCgT3t3hWdC1oyBhYiIqk2vF2w9fgkA0JuBhe4iBhYiIqq2w2laXMopRH0HW3T35eUgunsYWIiIqNq2Hiu9HNSzXTPeqkx3FQMLERFV2y/Hyi4HuSk8E7J2DCxERFQtWdeKsDel9HZmrl+hu423NRMRUTmZuYX47fRl6KXyMX9dyIZegPYezmjRqJ75Jkd1EgMLERGV83+r/sRvp69UaSwvB5E5MLAQEZERnV6wNyULANC9dWPY21a+esDZyQ6jerY2z8SoTmNgISIiIylXrqGwRA8nexusGRsOWxuN0lMi4qJbIiIydiw9BwDg5+7MsEKqwcBCRERGjv9dGlj8PZwVngnRDQwsRERkpOwMSwdPBhZSDwYWIiIycqzsDAsDC6kIAwsRERkUluhwJjMPQOn+KkRqUa3AEhcXB19fXzg5OSE4OBjbt2+vdGxaWhqeeuoptG/fHjY2Npg4cWKF47766isEBATA0dERAQEBWL9+fXWmRkRENXD6Uh50eoGLkx08XByVng6RgcmBJT4+HhMnTsQbb7yBvXv3olevXhg4cCBSUlIqHF9YWAg3Nze88cYbCAwMrHBMUlISoqKiEB0djf379yM6OhrDhw/H7t27TZ0eERHVQNmC2/aeztBoeIcQqYdGRG6z8XJ5oaGhCAoKwqJFiwzHOnbsiKFDhyI2Nva2j+3duze6du2KefPmGR2PioqCVqvFpk2bDMcGDBiAxo0bY/Xq1VWal1arhaurK7Kzs+Hi4lL1goiIyGDO5qNYtPUUnglrhVlDuyg9HaoDqvr+bdIZlqKiIiQnJyMyMtLoeGRkJHbt2lW9maL0DMutz9m/f//bPmdhYSG0Wq3RBxER1czx63cIcf0KqY1JgSUzMxM6nQ4eHh5Gxz08PJCenl7tSaSnp5v8nLGxsXB1dTV8eHt7V/vfJyKiUse4BwupVLUW3d56XVNEanyt09TnnDJlCrKzsw0fqampNfr3iYjqutzCEpy/mg+AgYXUx6ReQs2aNYOtrW25Mx8ZGRnlzpCYwtPT0+TndHR0hKMjV7ATEdWWE9fPrrg7O6JxAweFZ0NkzKQzLA4ODggODkZiYqLR8cTERERERFR7EuHh4eWeMyEhoUbPSUREprn5DiEitTG5W/OkSZMQHR2NkJAQhIeH45NPPkFKSgpiYmIAlF6quXDhApYvX254zL59+wAAubm5uHTpEvbt2wcHBwcEBAQAACZMmID77rsPc+bMwZAhQ/Dtt9/ip59+wo4dO2qhRCIiqoqjXHBLKmZyYImKisLly5cxY8YMpKWloXPnzti4cSN8fHwAlG4Ud+ueLN26dTP8d3JyMlatWgUfHx+cPXsWABAREYE1a9bgzTffxFtvvYW2bdsiPj4eoaGhNSiNiIhulV+kwxe/ncXhi+XvrNx95goAbslP6mTyPixqxX1YiIgqp9cLvtt/EXM2H0VadsFtx26e2AsdPPl7lMyjqu/fJp9hISIiy7Ln7BXM3HAE+1OzAAAtGtXDU6Gt4GhXfhlj66YNGFZIlRhYiIisVOqVa3h381FsOJAGAGjgYItxfdph9L2+cLK3VXh2RKZhYCEisjI5BcVY+MspfLbzDIpK9NBogKgQb0yK9Ie7s5PS0yOqFgYWIiIrUaLTI35PKuYmHMflvCIAQM92TfHGoAAEePEyD1k2BhYiIiuw/cQlzPrhiGFr/TbNGuDfgzriwY7u7LpMVoGBhYjIgp3MyMU7Gw7jl2OXAACu9ewxsa8fngnzgb1ttbqvEKkSAwsRkQW6mleEeT8dx4rdKdDpBXY2GowMb42XHmyHRvW5rT5ZHwYWIiILUlSix/Kks1iw5QS0BSUAgL4dPfDvQR3Qxq2hwrMjunsYWIiILICIIOHw34jdeARnL18DAHTwdMbUwQGIaNdM4dkR3X0MLEREKnfoQjZmbTiM306Xbp3frKEjXuvvj8eDvWFrwwW1VDcwsBARqVSGtgDv/3gMX/55HiKAg50NxvTyxQu926GhI399U93Cn3giIpXJL9Lhf9tP4+NfT+FakQ4A8EigFyYPaI+WjesrPDsiZTCwEBGpREUNCru1aoS3BgcgqFVjhWdHpCwGFiIiFUg+dwUzfjBuUPj6wA54+J7m3PiNCAwsRESKYoNCoqphYCEiUkBOQTHitp7Ckh1sUEhUFQwsRERmpNML4v9IxdzEY8jMLW1QGNG2Kd58iA0KiW6HgYWIyEy2n7iEdzYcwdF0NigkMhUDCxHRXXYyIxezNx7Bz0czAJQ2KJzwYGmDQgc7NigkqgoGFiKiu6SiBoXR4T6Y8KAfGxQSmYiBhYiollXWoHDKoA5oywaFRNXCwEJEVEtEBImH/0bspqM4k5kHoLRB4VuDA9CTDQqJaoSBhYioFvx1MRuzfjiCpNOXAbBBIVFtY2AhIqqBDG0B/pNwDOuS2aCQ6G7iq4mIqBoKinX437bTWHRTg8KHA73wOhsUEt0VDCxERCYoa1D43uajuHhTg8I3HwpAsA8bFBLdLQwsRERVVFGDwskD2uORQC9u/EZ0lzGwEBHdQeqVa5iz+Sh+YINCIsUwsBARVYINConUg4GFiOgWOr1g7Z5UfJDABoVEasHAQkR0kx0nMjFrw2E2KCRSGQYWIiKUNiiM3XgEW9igkEiVGFiIqE67mleE+VtOYMVv51ByvUHhM2E+mNiXDQqJ1ISBhYjqpIobFLpjyqCObFBIpEIMLERUp7BBIZFlYmAhojqjogaFr0b644kQNigkUjsGFiKyemxQSGT5+EolIqtVUKzDp9tPI24rGxQSWToGFiKyOiKlDQrnbGKDQiJrwcBCRFYl+dwVzPzhCPZdb1Do5eqE1wd2YINCIgvHwEJEVuH81Wt4dxMbFBJZKwYWIrJoOQXFWLT1FD69qUHh8GBvvNKfDQqJrAkDCxFZJDYoJKpbGFiIyOLc2qDQ93qDwr5sUEhktRhYiMhinLqUi9kb2KCQqC5iYCEi1WODQiJiYCEi1Soq0eOL385hwZYTyM4vBsAGhUR1FQMLEamOiOCnIxmYvfGIUYPCNx8KwL1+bFBIVBcxsBCRqvx1MRvvbDiCXafYoJCIbmBgISJVyNAW4IOE41ibnGpoUPj8vb4Y14cNComIgYWIFMYGhURUFdW6DzAuLg6+vr5wcnJCcHAwtm/fftvxv/76K4KDg+Hk5IQ2bdrg448/Nvr6smXLoNFoyn0UFBRUZ3pEZAFEBN/uu4AH/rMV/0k4jmtFOnT1boSvXojAh092Y1ghIiMmn2GJj4/HxIkTERcXh549e2Lx4sUYOHAgDh8+jFatWpUbf+bMGQwaNAhjxozBihUrsHPnTowbNw5ubm547LHHDONcXFxw7Ngxo8c6OXFbbSJrlHzuKmb+cJgNComoyjQiIqY8IDQ0FEFBQVi0aJHhWMeOHTF06FDExsaWG//666/ju+++w5EjRwzHYmJisH//fiQlJQEoPcMyceJEZGVlVbMMQKvVwtXVFdnZ2XBx4bbcRGrEBoVEdKuqvn+bdEmoqKgIycnJiIyMNDoeGRmJXbt2VfiYpKSkcuP79++PPXv2oLi42HAsNzcXPj4+aNmyJQYPHoy9e/fedi6FhYXQarVGH0SkTrmFJXhv81E88MGv+OFAGjQaICrEG7+81hvj+7RjWCGiOzLpklBmZiZ0Oh08PDyMjnt4eCA9Pb3Cx6Snp1c4vqSkBJmZmWjevDk6dOiAZcuWoUuXLtBqtZg/fz569uyJ/fv3w8/Pr8LnjY2NxfTp002ZPhGZmU4vWLcnFf9JOI7M3EIAQHibpnhzcEd08nJVeHZEZEmqdZfQrdeYReS2150rGn/z8bCwMISFhRm+3rNnTwQFBeHDDz/EggULKnzOKVOmYNKkSYbPtVotvL29TSuEiO6anSczMfMHNigkotphUmBp1qwZbG1ty51NycjIKHcWpYynp2eF4+3s7NC0adMKH2NjY4Pu3bvjxIkTlc7F0dERjo6OpkyfiMzg1KVcxG48gp+OlDYodHGyw4S+/ohmg0IiqgGTAouDgwOCg4ORmJiIYcOGGY4nJiZiyJAhFT4mPDwc33//vdGxhIQEhISEwN7evsLHiAj27duHLl26mDI9IlJQ1rUizPupfIPCCQ/6oXEDNigkopox+ZLQpEmTEB0djZCQEISHh+OTTz5BSkoKYmJiAJReqrlw4QKWL18OoPSOoI8++giTJk3CmDFjkJSUhCVLlmD16tWG55w+fTrCwsLg5+cHrVaLBQsWYN++fVi4cGEtlUlEdwsbFBKROZgcWKKionD58mXMmDEDaWlp6Ny5MzZu3AgfHx8AQFpaGlJSUgzjfX19sXHjRrz88stYuHAhvLy8sGDBAqM9WLKysjB27Fikp6fD1dUV3bp1w7Zt29CjR49aKJGI7gY2KCQiczJ5Hxa14j4sROZz+KIWszYcZoNCIqqxqr5/s5cQEVVZRk4BPviRDQqJyPz4G4aI7qigWIclO84g7peTyLveoHDwPc3x+oAO8G7Cnj9EdPcxsBBRpUQE3+2/iPc2H8OFrHwAQFfvRnhrcACCfRorPDsiqksYWIioQsnnrmLWhsPYm5IF4EaDwofv8YIN16kQkZkxsBCRkfNXr2HO5mP4fv9FAEB9B1uM690Wz/dqw54/RKQYBhYiAlDaoDDul5P4dMcZFJXoodEAw4O98UqkP9xdnJSeHhHVcQwsRHUcGxQSkSVgYCGqw3adzMTMDUdwJE0LAGjdtD7+Pagj+gV4sEEhEakKAwtRHXT6Ui5ms0EhEVkQBhaiOiTrWhHmbzmBL5JKGxTa2mgQzQaFRGQBGFiI6oBinR5fJJ3D/JsaFD7YobRBYTt3NigkIvVjYCGyYmUNCmM3HsFpNigkIgvGwEJkpco3KHTAK5HtMZwNConIAjGwEFmZjJwCzE04jvg9xg0KX+jdFs5O9kpPj4ioWhhYiKwEGxQSkTVjYCGycCKC7w+kYc6mo4YGhYHejTB1cEcE+zRReHZERLWDgYXIgv2ZchUzf2CDQiKyfgwsRBbo/NVreG/zMXx3U4PCF+4vbVBYz4ENConI+jCwEFmQ3MISLNp6Ep9uP4PC6w0KnwhuiVcj27NBIRFZNQYWIgtQUYPCsDZN8OZDAejcgg0Kicj6MbAQqRwbFBIRMbAQqVZpg8Kj+OnI3wDYoJCI6jYGFiKVYYNCIqLyGFiIVKJYp8eK385h3k83GhQ+0MEd/2aDQiIiBhYipYkIthzJwOxbGhS+8VBH9PJzU3h2RETqwMBCpKDDF7V4Z+Nh7Dx5o0HhpH7tEdWdDQqJiG7GwEKkgIoaFI6+1xfj2KCQiKhCDCxEZsQGhURE1cPAQmQGbFBIRFQzDCxEdxkbFBIR1RwDC9FdciErH3M2HWWDQiKiWsDAQlTL2KCQiKj2MbAQ1RKdXvBlcmmDwks5bFBIRFSbGFiIakFFDQqnDOqISDYoJCKqFQwsRDVQUYPClx70w8jw1mxQSERUixhYiKoh61oRFmw5ieVJZ9mgkIjIDBhYiExQ1qBw/pYTyLrGBoVERObCwEJUBWxQSESkLAYWojs4kqbFrA1sUEhEpCQGFqJKXMopxNzEY4j/IxV6NigkIlIUAwvRLSpqUPjQPc3xLzYoJCJSDAML0XUigh8OpOFdNigkIlIdBhYiAHuvNyj883qDwuauTnh9QAc8EsgGhUREasDAQnXahax8vLf5KL7dxwaFRERqxsBCdVJeYQkWbT2F/20/bWhQ+HhQS7zavz082KCQiEh1GFioTmGDQiIiy8TAQnXGrlOZmPXDERxmg0IiIovDwEJW70xmHmZvPILEw2xQSERkqRhYyGplXyvG/C0njBoUPhPaChP6+qMJGxQSEVkUBhayOsU6PVb+dg7z2KCQiMhqMLCQ1RAR/Hw0A+9sPILTl0obFLb3cMabg9mgkIjI0lXrAn5cXBx8fX3h5OSE4OBgbN++/bbjf/31VwQHB8PJyQlt2rTBxx9/XG7MV199hYCAADg6OiIgIADr16+vztSojjqSpkX0kt8x+vM9OH0pD80aOmD2sC7Y8NK9DCtERFbA5DMs8fHxmDhxIuLi4tCzZ08sXrwYAwcOxOHDh9GqVaty48+cOYNBgwZhzJgxWLFiBXbu3Ilx48bBzc0Njz32GAAgKSkJUVFRmDlzJoYNG4b169dj+PDh2LFjB0JDQ2teZQ0UluggcuPzEr1Am1+M7Pxi5BSUQKeXyh8MQCDIK9Qh+/pjCop1d/w3dXpBQbEOBcV6FOv0dxyvF0FBsR4FJToUFt95vLUpLNFh58lMNigkIrJiGhG5/TvuLUJDQxEUFIRFixYZjnXs2BFDhw5FbGxsufGvv/46vvvuOxw5csRwLCYmBvv370dSUhIAICoqClqtFps2bTKMGTBgABo3bozVq1dXaV5arRaurq7Izs6Gi4uLKSXd1qNxOw3btZO6sUEhEZHlqer7t0lnWIqKipCcnIx//etfRscjIyOxa9euCh+TlJSEyMhIo2P9+/fHkiVLUFxcDHt7eyQlJeHll18uN2bevHmVzqWwsBCFhYWGz7VarSml1Ii9rQau9ezh4mQP2yr0manvaAfXevZwrWePevY20OD2j7GxAZzsbeFkbwt7W5s7jAY0muvj7WzgaG97x/HWqJOXK7q05MZvRETWyqTAkpmZCZ1OBw8PD6PjHh4eSE9Pr/Ax6enpFY4vKSlBZmYmmjdvXumYyp4TAGJjYzF9+nRTpl8tK54PNbrsY2ujQT17W240RkREZEbVWnR765u1iNz2Dbyi8bceN/U5p0yZguzsbMNHampqledvivoOdnB2sjd81HewY1ghIiIyM5POsDRr1gy2trblznxkZGSUO0NSxtPTs8LxdnZ2aNq06W3HVPacAODo6AhHR0dTpk9EREQWyqQzLA4ODggODkZiYqLR8cTERERERFT4mPDw8HLjExISEBISAnt7+9uOqew5iYiIqG4x+bbmSZMmITo6GiEhIQgPD8cnn3yClJQUxMTEACi9VHPhwgUsX74cQOkdQR999BEmTZqEMWPGICkpCUuWLDG6+2fChAm47777MGfOHAwZMgTffvstfvrpJ+zYsaOWyiQiIiJLZnJgiYqKwuXLlzFjxgykpaWhc+fO2LhxI3x8fAAAaWlpSElJMYz39fXFxo0b8fLLL2PhwoXw8vLCggULDHuwAEBERATWrFmDN998E2+99Rbatm2L+Ph4xfdgISIiInUweR8Wtbpb+7AQERHR3VPV9+9q3SVEREREZE4MLERERKR6DCxERESkegwsREREpHoMLERERKR6DCxERESkeibvw6JWZXdnm7NrMxEREdVM2fv2nXZZsZrAkpOTAwDw9vZWeCZERERkqpycHLi6ulb6davZOE6v1+PixYtwdnY2azdlrVYLb29vpKamWuyGdaxBHViDelhDHaxBHVjDnYkIcnJy4OXlBRubyleqWM0ZFhsbG7Rs2VKxf9/FxcVifxjLsAZ1YA3qYQ11sAZ1YA23d7szK2W46JaIiIhUj4GFiIiIVI+BpYYcHR0xbdo0ODo6Kj2VamMN6sAa1MMa6mAN6sAaao/VLLolIiIi68UzLERERKR6DCxERESkegwsREREpHoMLERERKR6DCxEZsL17VRb+LOkHvxemA8Dy22UlJQY/ps/lMo6f/480tLSAFjm9yIjI8PQ7wqwzBpOnjyJxMREpadRI6mpqUhOTsbFixeVnkq1ZWdnQ6fTGT63xJ+l48ePIyYmBtu3b1d6KjXC17V5MbBUoKioCP/6178wbtw4TJs2Dfn5+WbtT1RbiouLsXTpUqxfvx5Hjx5VejrVUlxcjH/+85+IiIjAF198AQAW9b0oKSnB6NGj0aNHD/Tt2xdPP/00MjMzLaoGADhw4AD8/f3x5JNP4ty5c0pPx2RlP0dBQUH4xz/+gcDAQOzcuVPpaZmkuLgY48ePx6BBgzBo0CDMnDkTOp3Oon6W9Ho9Xn75ZXTt2hV5eXlGb/aWhK9rZTCw3OKbb76Bj48Pfv/9dzg5OeH999/H2LFjISIWlZ4XL14MDw8PfPbZZ5g4cSIee+wxrF27FkDpLw1LkJqaip49e+LgwYNYt24dnnzySYv6PpSUlGDUqFE4fPgwPv/8czz55JM4cOAAHn30URw5ckTp6ZmkqKgI/fv3h729Pd577z2lp2OS3NxcPP744zhx4gQSEhKwdu1aBAUF4a233gJgGX8VJyYmIiAgAH/99Rdee+01eHt7Y+XKlXj77bcBWEYNALBp0yb88ccf2LRpE7744gsMGjTI8DVLqYGvawUJGRQUFMjAgQPl3//+t+HYN998I/Xr15f8/HwFZ1Z1xcXF8t///le6dOkiK1euFBGR/fv3y4svvijBwcGi0+kUnmHVffrpp9K3b1/R6/UiIpKamipFRUUKz6rqUlJSxM/PT7744gvDsbS0NGnRooW8+OKLkp6eruDsTLN48WJ58sknZcuWLWJnZye7d+9WekpVtnv3bvHz85Off/7ZcOx///ufPPLIIxbxesjOzpbnn39exo8fb/j5LywslGnTpkn//v0lLy9P4RlW3dChQ2X8+PEiIrJ161Z58803ZenSpXLu3DmFZ1Z1fF0rh2dYbnLgwAFs3boVDz74oOFYeno6xo4daxFnJUQExcXFhr8oR4wYAQC455570KlTJ9jZ2eHSpUsKz/L25KYzKHv27EFgYCCysrIwfPhw9OvXDz169MDYsWORnp6u8Ezv7PLlyzh//jzCwsIAAIWFhfD09MSUKVOQkJCAbdu2KTzD27v5Z97R0RE+Pj544IEH0L17d0yfPh1Aadt5tSsqKsLJkycN24pnZmZi4cKF8PLywmeffYb8/HyFZ3h7IoJ7770Xzz//POzt7SEicHBwQEFBAfLz81G/fn2LODuRk5ODzMxMPPjgg5g1axZGjBiBgwcPYurUqXjggQfw/fffKz3FKrH01/XNPyuW9rqu04ElISEB+/fvNyxg6969O5o0aYKPPvoImzZtwmuvvYZx48bh559/hp+fHxYtWmR4w1fTL4hTp05Br9dDo9HAyckJTz/9NKZOnQobGxvDPBs3bozc3Fy4u7srPNuKnTp1CiICjUZjuA586NAhAMC8efMAAB999BFiYmLw/fffY9q0abhw4QIAdXwvZs+ejWnTpmHNmjWGYx07doS7uztWrFgBALCxKX25jR8/Hs7Ozti0aRMKCwsVmW9Fbq2hbL4A8OeffyI3NxcAsHLlSmzevBkDBw5E//79VbU+qqLvw7333ov7778fzz33HAYOHAgPDw94enrCwcEBU6ZMwbPPPouDBw8qOGtjGzduBHAjMLq6uuLZZ59F165djY5nZ2ejTZs2ANS3rqushptfm87OziguLsann36K48eP4+uvv8aXX36Jc+fOoW3btvjss89U9bMEAJ988gn+97//GYUQPz8/eHp6WszruqyGX3/9FUDpz0rZz5ClvK4NlDmxo6ylS5eKp6endOnSRZydnWXcuHGSmpoqIqWnKceNGyc9evSQdu3ayZYtW+TYsWMya9Ys8fPzk88//1zh2d+wZMkSadWqlQQHB0toaKgsX77ccPlERIxOdz/33HPyzDPPiIio6rLKrTWsWLFCCgsLRUTkP//5j9ja2oq/v7/88ccfhscsXbpUOnXqJN9//71S0zbYvXu3tGrVSoKCgmTgwIHi7Owsjz32mJw6dUpERF599VXx9/eXv//+W0TEcGnx888/l0aNGqniUmNFNTz++ONy4sQJw5gRI0bITz/9JCKll1Pq1asn9vb28uWXXyo1bSOV1XD06FEREdFqtXLixAmJiIiQ//znP4bH7d27V9q0aSNr165VauoGP/zwg7Ro0UI0Go3s3LlTRKTCS1Zlr/HQ0FD59NNPjY4praIa9Hq9YX5LliwRjUYj/v7+kpGRYXjctm3bpHnz5rJr1y5F5n2rVatWibu7u4SHh0vXrl3Fzc1N3nnnHREpvUQ3efJk1b+uK6ph9uzZIiKG37Fqf13fqs4Flk8//VTatWsnq1evlkuXLsnKlSulQYMGsm/fPsOY4uJiiYyMLBdOOnXqZLS+RUnz5s0z1LFjxw6ZOnWq2NjYyMKFCw2BRK/XS0lJiRQXF0tQUJAsXry43PMoeQ2/oho0Go0sXLhQSkpK5K+//pLAwEBp3bq1XLhwweixLVq0kEWLFik08xsmTZokDz30kIiU/n958OBB8fHxkZiYGMnKypLffvtNgoKCZNy4cSJy443ll19+EXd3d9m/f79icy9TWQ0vvPCCnD9/XkREnnnmGYmOjpbu3buLm5ubzJw5Uxo3bmz05q+k29Vw8eJFERH5448/pH379pKRkWH4PpSUlKiiju3bt8uAAQPk//7v/2TgwIESEhJy2/FnzpwRNzc3QyATEUNIVuo1XZUaDh8+LL1795aAgABJS0szHM/Pz5eGDRvKunXrzDnlCq1cuVICAwPl448/FhGRCxcuyEcffSQNGjSQ7OxsERFJTEyU7t27q/Z1fbsatFqtYdyzzz6r6tf1repMYCl7837qqackOjra6Gv+/v5GgeXixYvSuHFjw0KwkpISycrKkpCQEEPKVlJeXp7069dPpk2bJiI3Xiy9evUSHx8f+eabb4yOp6WlScuWLQ2/3Pbu3SvPPvus2ed9s9vV4O3tLT/88IOIiLz33ntia2tr9BdwRkaGdOnSRVasWGH2eZfR6/WSlZUl9957r7z66qsicuONIi4uTrp162b4ZfHf//5X6tevL19//bXhL5tZs2ZJ7969Ff3L+E41BAcHy4cffigiIsOGDZMmTZrI+PHjDSHm3XffFY1GI2fOnFFk/iJVq2HevHkiInL06FHRaDSSnJxsePz69eslKChI/vzzT/NPXm783B8/flzmzp0rp0+flj179kj9+vUNZ08qCiCLFi2SoKAgERH5888/pUePHuLm5ibFxcXmm/x1VamhpKTE8L/ffPONODo6yrRp0ww/S/Hx8RIeHm44Y6GEsjqWLVsmY8eOlWvXrhm+tmPHDvH395ekpCQRKQ1Y//3vf6VBgwaqel1XpYayhbXXrl2TYcOGSdOmTVX3uq5MnQksZbp27SrPP/+8YSX3iy++KO3bt5e3335bkpKSJC8vTwoLC+Wee+6RgQMHyv79++Xs2bMyevRo6dixoxw6dEjhCkpP5zVp0kRWrVolIjdORz722GPi5eUlI0eONDrd+sUXX0ivXr1Eq9XKP/7xD7G3t5chQ4aITqdT7IV1pxqio6Pl6tWrkpubK8OGDRNvb2+ZNm2a7N27V0aPHi3dunUz/OVsLsnJyZKVlWV0LCQkRP75z3+KSOldZiKll9weffRReeSRR+TChQtSVFQkr732mjg7O8v9998vTzzxhNSrV08WLlwoIuY9nV+dGq5evSoHDhyQgwcPGj2uoKBA3nvvPbP/RW9qDUOHDpVz585JXl6eREVFSf369SUmJkZGjhwpzs7OMnXqVLO/DiqqoexNvbi4WF555RVxc3Mz1FKmbJ4vvviiPP744/Lyyy+LjY2NjB49utzYu83UGm7+OVmwYIF4eXlJ+/btZdiwYdKgQQPF/hhMTk6Wq1evGj7Pysoy1FFm37594unpKVeuXDEc02q1MnnyZNW8rqtTw++//y5//fWX0TilXtdVYbWBZe3atfL888/LvHnz5MCBA4bja9asER8fH4mMjJSmTZtKhw4dZMaMGdKnTx8JDAyUd999V0RKr6m6ubmJv7+/tGzZUvr06WN0TV/pOp588knp0KGDIRWvWLFC+vTpI88//7z4+/vL3r17DWNHjBghtra24uzsLCEhIXLkyBHV1+Dn52eooaioSF566SUJDg6W9u3by/333y8nT5402/y//PJLadmypbRt21ZatWolU6dONcx5/vz50rBhQ8OtpWV/aX311VfSsmVLw3V8EZF169bJtGnTJCYmxuzfg+rW0KJFC9WsK6jJ96Gshry8PJk8ebKMGjVKRo4cKceOHVO8hrJLIzev9Th9+rR4e3vLK6+8YvhaGZ1OJz4+PqLRaKR3797l3nDUWsOtb4C//fabxMXFyZQpU8z+fRApX8dbb71ldEvyzfOdO3eu9OzZU0Ru/GyVUdPruqo1mDvc1harCyyZmZny+OOPi6enp8TExMi9994rXl5esnTpUsOYjIwMef/99+X+++83up43ZswYGTp0qGRmZoqIyLlz5+T333+X33//3dxlVFhH8+bNZfny5SJSevq1TZs20qZNG/Hy8pL69evLV199JSIidnZ2smHDBhEp/QXy5JNPSuvWrQ3HLK2GMrm5uWYNKiKl6x46dOgg8+bNk/3790tcXJy4ubnJCy+8IFlZWXLu3Dlp27at4a/7mxc0N23aVJYsWWLW+VaENTQ1XJooo8Slk9vVcPnyZRG5cYZCr9dLXFyc2NnZyenTp0Wk9I0yLy9P8vPzZfbs2fLjjz9aZA03/85VSlXq0Ol0hp+TYcOGGfaPUQtrqMFUVhdY1q1bJz169DD85SUiMmTIEPH19ZWvv/5aREp/WY0YMUJmzZolIjcS86RJk6Rt27aSm5tr/onforI6WrduLevXrxeR0o3UfvzxR/n8888Nv6AzMjLK3fVw/Phxs869TE1rUHIBXtlfiYsWLZKWLVsaFtuJiHz00UfSo0cPiY2NFRGRhQsXiq2trfz666+GMadOnZK2bdsaApgSWINl1BAWFiYzZ84s97jLly9LRESEDBkyRJKTk6Vfv35Gm5WZU23VEBkZKV988YXiazyqWkfZZfO2bdsa1tUdO3ZMRowYISkpKead/HXWUEN1WV1gGTZsmDz66KMiIpKTkyMipQuQNBqNPPjgg4ZFXf369ZOhQ4caHpeeni6DBw+WN954w/yTrsCd6ihbo3Lradb4+Hjp0KGD0Qp8pVhDDZMnT5YHHnjAaDfR3NxcGT9+vISFhcmxY8dEr9fL008/LZ6enjJ9+nTZu3ev/POf/5QuXbqUu7tJCaxB/TVEREQY1sfdvPZg6dKlotFoxMbGRgYPHqz4rra1UcPNC0GVUtU6REpvme/SpYtcvHhRJkyYII6OjtKvXz/FL6tYQw2msuiN47Zt24Yff/zRqKuyn58f/vrrLwBAw4YNAQBHjx7FAw88gIKCAnzzzTcAgClTpmDDhg3o2bMnxo0bh5CQEGi1WowdO9ai6rCxscGlS5dw9OhRfPTRR3j55Zfx6KOPolmzZmbdUM3Sa0hMTMRLL72E+fPn4/fffzcc79mzJ3bt2mXYWVen06FBgwYYMmQIbGxssGHDBmg0GqxYsQJPPPEE1q9fjyeeeAJ//PEHVq5cCS8vL7PMnzVYdg0ajQYJCQkAAFtbWxQVFSEuLg6jR4/GfffdhwMHDuD7779H/fr1Lb6GevXqmaWG2qgDKN0E79ChQ2jfvj0SExOxc+dOJCQkGHZOZg1mpHRiqo5Lly7JyJEjRaPRSGBgoNHtV6dOnRI3Nze5//77Zc6cORIeHi6+vr6yZcsWCQwMlDfffNMwdv369fL666/LU089pcjGUTWp46233jKMTU5OlqFDh4qvr6/ZTxlbeg0XL16UwYMHi7u7uzz99NPSpUsXcXV1Ndz6l5+fLx06dJCxY8eKiPHZoF69eskLL7xg+Fyn00leXp7R3hisgTVUtYayPT1ESs/4TpgwwewbVVpDDSK1W8esWbPEzc3N7JcVraGG2mZxgaW4uFji4uKkf//+smbNGqlfv77ExsYandrasWOHjBkzRoKCguT//u//5NKlSyIiEh0dLY899phSUzdS23UosY+EpdeQl5cnzz77rERFRRkWBYqIdO/eXUaNGiUipae2ly9fLjY2NkZ3/IiIPP3009KnTx/D50pcl2cN1lmDEqyhBpHaqaN3796Gz2/eIsJcrKGGu8HiAotI6e1wZduyT58+Xdzc3Ixu4y1z8+1nf//9t3Tu3Nmw0FYN95jXRh1K3O1wM0uvYezYsbJp0yajeUyfPl1CQ0MNYwoKCmTYsGHSsWNH2bp1q+j1eklLS5MePXqUu/tECayBNdQWa6hBxDrqsIYaaptFBpZb/4Ly8vKSsWPHGm6Xu/nr+fn5UlRUZNh99OZ9QJRmDXVYeg033/5aNtdnnnlGxowZY3QsPz9fevfuLe7u7hIZGSleXl4SFhamilX2rIE11BZrqEHEOuqwhhpqm0UGljJlf7WvXbtW7OzsJCEhwejr58+fl7i4OAkJCTHaVVVtrKEOa6ihTK9evQz79pS1dBApvSafkJAg77zzjqxcuVLBGd4Za1AH1qAe1lCHNdRQExYdWG4WHh4uffv2Ndy2XHbNbtWqVapt5FQRa6jDkms4deqUeHh4yJ49ewzHbt3ZUu1YgzqwBvWwhjqsoYaasvjAUnZt79ChQ2Jrayvz58+Xl156SYKCgsr1PlEza6jDkmsoO736+eefS9u2bQ3H3377bYmJiVG0KVtVsQZ1YA3qYQ11WEMNtcXiA8vNunfvLhqNRnx8fGTz5s1KT6farKEOS61h/PjxMnnyZElISJDWrVuLu7u7Ilug1wRrUAfWoB7WUIc11FBTVhFYTp48KZ07dzZqZ26JrKEOS64hPz9f2rVrJxqNRhwdHQ2NMC0Ja1AH1qAe1lCHNdRQG+yU3riuNtja2uKxxx7D66+/btZdFGubNdRhyTU4OTmhdevW6NevH+bOnQsnJyelp2Qy1qAOrEE9rKEOa6ihNmhEzLh/O5HK6XQ62NraKj2NGmEN6sAa1MMa6rCGGmqKgYWIiIhUz6KbHxIREVHdwMBCREREqsfAQkRERKrHwEJERESqx8BCREREqsfAQkRERKrHwEJERESqx8BCREREqsfAQkRmMWrUKGg0Gmg0Gtjb28PDwwP9+vXDZ599Br1eX+XnWbZsGRo1anT3JkpEqsTAQkRmM2DAAKSlpeHs2bPYtGkT+vTpgwkTJmDw4MEoKSlRenpEpGIMLERkNo6OjvD09ESLFi0QFBSEf//73/j222+xadMmLFu2DAAwd+5cdOnSBQ0aNIC3tzfGjRuH3NxcAMDWrVvx3HPPITs723C25u233wYAFBUVYfLkyWjRogUaNGiA0NBQbN26VZlCiajWMbAQkaIeeOABBAYG4uuvvwYA2NjYYMGCBTh06BA+//xz/Pzzz5g8eTIAICIiAvPmzYOLiwvS0tKQlpaGV199FQDw3HPPYefOnVizZg0OHDiAJ554AgMGDMCJEycUq42Iag+bHxKRWYwaNQpZWVn45ptvyn1txIgROHDgAA4fPlzua+vWrcMLL7yAzMxMAKVrWCZOnIisrCzDmFOnTsHPzw/nz5+Hl5eX4Xjfvn3Ro0cPzJ49u9brISLzslN6AkREIgKNRgMA+OWXXzB79mwcPnwYWq0WJSUlKCgoQF5eHho0aFDh4//880+ICPz9/Y2OFxYWomnTpnd9/kR09zGwEJHijhw5Al9fX5w7dw6DBg1CTEwMZs6ciSZNmmDHjh0YPXo0iouLK328Xq+Hra0tkpOTYWtra/S1hg0b3u3pE5EZMLAQkaJ+/vlnHDx4EC+//DL27NmDkpISfPDBB7CxKV1it3btWqPxDg4O0Ol0Rse6desGnU6HjIwM9OrVy2xzJyLzYWAhIrMpLCxEeno6dDod/v77b2zevBmxsbEYPHgwRo4ciYMHD6KkpAQffvghHn74YezcuRMff/yx0XO0bt0aubm52LJlCwIDA1G/fn34+/vj6aefxsiRI/HBBx+gW7duyMzMxM8//4wuXbpg0KBBClVMRLWFdwkRkdls3rwZzZs3R+vWrTFgwAD88ssvWLBgAb799lvY2tqia9eumDt3LubMmYPOnTtj5cqViI2NNXqOiIgIxMTEICoqCm5ubnjvvfcAAEuXLsXIkSPxyiuvoH379njkkUewe/dueHt7K1EqEdUy3iVEREREqsczLERERKR6DCxERESkegwsREREpHoMLERERKR6DCxERESkegwsREREpHoMLERERKR6DCxERESkegwsREREpHoMLERERKR6DCxERESkev8P+IOb8Zp2xMIAAAAASUVORK5CYII=\n",
      "text/plain": [
       "<Figure size 640x480 with 1 Axes>"
      ]
     },
     "metadata": {},
     "output_type": "display_data"
    }
   ],
   "source": [
    "apple.dividends.plot()"
   ]
  },
  {
   "cell_type": "markdown",
   "metadata": {},
   "source": [
    "## Exercise \n"
   ]
  },
  {
   "cell_type": "markdown",
   "metadata": {},
   "source": [
    "Now using the `Ticker` module create an object for AMD (Advanced Micro Devices) with the ticker symbol is `AMD` called; name the object <code>amd</code>.\n"
   ]
  },
  {
   "cell_type": "code",
   "execution_count": 13,
   "metadata": {},
   "outputs": [],
   "source": [
    "amd = yf.Ticker(\"AMD\")"
   ]
  },
  {
   "cell_type": "code",
   "execution_count": 14,
   "metadata": {},
   "outputs": [
    {
     "name": "stdout",
     "output_type": "stream",
     "text": [
      "--2024-02-22 11:24:32--  https://cf-courses-data.s3.us.cloud-object-storage.appdomain.cloud/IBMDeveloperSkillsNetwork-PY0220EN-SkillsNetwork/data/amd.json\n",
      "Resolving cf-courses-data.s3.us.cloud-object-storage.appdomain.cloud (cf-courses-data.s3.us.cloud-object-storage.appdomain.cloud)... 169.63.118.104, 169.63.118.104\n",
      "Connecting to cf-courses-data.s3.us.cloud-object-storage.appdomain.cloud (cf-courses-data.s3.us.cloud-object-storage.appdomain.cloud)|169.63.118.104|:443... connected.\n",
      "HTTP request sent, awaiting response... 200 OK\n",
      "Length: 5838 (5.7K) [application/json]\n",
      "Saving to: ‘amd.json’\n",
      "\n",
      "amd.json            100%[===================>]   5.70K  --.-KB/s    in 0s      \n",
      "\n",
      "2024-02-22 11:24:32 (52.6 MB/s) - ‘amd.json’ saved [5838/5838]\n",
      "\n"
     ]
    }
   ],
   "source": [
    "!wget https://cf-courses-data.s3.us.cloud-object-storage.appdomain.cloud/IBMDeveloperSkillsNetwork-PY0220EN-SkillsNetwork/data/amd.json"
   ]
  },
  {
   "cell_type": "code",
   "execution_count": 15,
   "metadata": {},
   "outputs": [
    {
     "data": {
      "text/plain": [
       "{'zip': '95054',\n",
       " 'sector': 'Technology',\n",
       " 'fullTimeEmployees': 15500,\n",
       " 'longBusinessSummary': 'Advanced Micro Devices, Inc. operates as a semiconductor company worldwide. The company operates in two segments, Computing and Graphics; and Enterprise, Embedded and Semi-Custom. Its products include x86 microprocessors as an accelerated processing unit, chipsets, discrete and integrated graphics processing units (GPUs), data center and professional GPUs, and development services; and server and embedded processors, and semi-custom System-on-Chip (SoC) products, development services, and technology for game consoles. The company provides processors for desktop and notebook personal computers under the AMD Ryzen, AMD Ryzen PRO, Ryzen Threadripper, Ryzen Threadripper PRO, AMD Athlon, AMD Athlon PRO, AMD FX, AMD A-Series, and AMD PRO A-Series processors brands; discrete GPUs for desktop and notebook PCs under the AMD Radeon graphics, AMD Embedded Radeon graphics brands; and professional graphics products under the AMD Radeon Pro and AMD FirePro graphics brands. It also offers Radeon Instinct, Radeon PRO V-series, and AMD Instinct accelerators for servers; chipsets under the AMD trademark; microprocessors for servers under the AMD EPYC; embedded processor solutions under the AMD Athlon, AMD Geode, AMD Ryzen, AMD EPYC, AMD R-Series, and G-Series processors brands; and customer-specific solutions based on AMD CPU, GPU, and multi-media technologies, as well as semi-custom SoC products. It serves original equipment manufacturers, public cloud service providers, original design manufacturers, system integrators, independent distributors, online retailers, and add-in-board manufacturers through its direct sales force, independent distributors, and sales representatives. The company was incorporated in 1969 and is headquartered in Santa Clara, California.',\n",
       " 'city': 'Santa Clara',\n",
       " 'phone': '408 749 4000',\n",
       " 'state': 'CA',\n",
       " 'country': 'United States',\n",
       " 'companyOfficers': [],\n",
       " 'website': 'https://www.amd.com',\n",
       " 'maxAge': 1,\n",
       " 'address1': '2485 Augustine Drive',\n",
       " 'industry': 'Semiconductors',\n",
       " 'ebitdaMargins': 0.24674,\n",
       " 'profitMargins': 0.19240999,\n",
       " 'grossMargins': 0.48248002,\n",
       " 'operatingCashflow': 3520999936,\n",
       " 'revenueGrowth': 0.488,\n",
       " 'operatingMargins': 0.22198,\n",
       " 'ebitda': 4055000064,\n",
       " 'targetLowPrice': 107,\n",
       " 'recommendationKey': 'buy',\n",
       " 'grossProfits': 7929000000,\n",
       " 'freeCashflow': 3122749952,\n",
       " 'targetMedianPrice': 150,\n",
       " 'currentPrice': 119.22,\n",
       " 'earningsGrowth': -0.454,\n",
       " 'currentRatio': 2.024,\n",
       " 'returnOnAssets': 0.21327,\n",
       " 'numberOfAnalystOpinions': 38,\n",
       " 'targetMeanPrice': 152.02,\n",
       " 'debtToEquity': 9.764,\n",
       " 'returnOnEquity': 0.47428,\n",
       " 'targetHighPrice': 200,\n",
       " 'totalCash': 3608000000,\n",
       " 'totalDebt': 732000000,\n",
       " 'totalRevenue': 16433999872,\n",
       " 'totalCashPerShare': 3.008,\n",
       " 'financialCurrency': 'USD',\n",
       " 'revenuePerShare': 13.548,\n",
       " 'quickRatio': 1.49,\n",
       " 'recommendationMean': 2.2,\n",
       " 'exchange': 'NMS',\n",
       " 'shortName': 'Advanced Micro Devices, Inc.',\n",
       " 'longName': 'Advanced Micro Devices, Inc.',\n",
       " 'exchangeTimezoneName': 'America/New_York',\n",
       " 'exchangeTimezoneShortName': 'EDT',\n",
       " 'isEsgPopulated': False,\n",
       " 'gmtOffSetMilliseconds': '-14400000',\n",
       " 'quoteType': 'EQUITY',\n",
       " 'symbol': 'AMD',\n",
       " 'messageBoardId': 'finmb_168864',\n",
       " 'market': 'us_market',\n",
       " 'annualHoldingsTurnover': None,\n",
       " 'enterpriseToRevenue': 8.525,\n",
       " 'beta3Year': None,\n",
       " 'enterpriseToEbitda': 34.551,\n",
       " '52WeekChange': 0.51966953,\n",
       " 'morningStarRiskRating': None,\n",
       " 'forwardEps': 4.72,\n",
       " 'revenueQuarterlyGrowth': None,\n",
       " 'sharesOutstanding': 1627360000,\n",
       " 'fundInceptionDate': None,\n",
       " 'annualReportExpenseRatio': None,\n",
       " 'totalAssets': None,\n",
       " 'bookValue': 6.211,\n",
       " 'sharesShort': 27776129,\n",
       " 'sharesPercentSharesOut': 0.0171,\n",
       " 'fundFamily': None,\n",
       " 'lastFiscalYearEnd': 1640390400,\n",
       " 'heldPercentInstitutions': 0.52896,\n",
       " 'netIncomeToCommon': 3161999872,\n",
       " 'trailingEps': 2.57,\n",
       " 'lastDividendValue': 0.005,\n",
       " 'SandP52WeekChange': 0.15217662,\n",
       " 'priceToBook': 19.194977,\n",
       " 'heldPercentInsiders': 0.00328,\n",
       " 'nextFiscalYearEnd': 1703462400,\n",
       " 'yield': None,\n",
       " 'mostRecentQuarter': 1640390400,\n",
       " 'shortRatio': 0.24,\n",
       " 'sharesShortPreviousMonthDate': 1644883200,\n",
       " 'floatShares': 1193798619,\n",
       " 'beta': 1.848425,\n",
       " 'enterpriseValue': 140104957952,\n",
       " 'priceHint': 2,\n",
       " 'threeYearAverageReturn': None,\n",
       " 'lastSplitDate': 966902400,\n",
       " 'lastSplitFactor': '2:1',\n",
       " 'legalType': None,\n",
       " 'lastDividendDate': 798940800,\n",
       " 'morningStarOverallRating': None,\n",
       " 'earningsQuarterlyGrowth': -0.453,\n",
       " 'priceToSalesTrailing12Months': 11.805638,\n",
       " 'dateShortInterest': 1647302400,\n",
       " 'pegRatio': 0.99,\n",
       " 'ytdReturn': None,\n",
       " 'forwardPE': 25.258476,\n",
       " 'lastCapGain': None,\n",
       " 'shortPercentOfFloat': 0.0171,\n",
       " 'sharesShortPriorMonth': 88709340,\n",
       " 'impliedSharesOutstanding': 0,\n",
       " 'category': None,\n",
       " 'fiveYearAverageReturn': None,\n",
       " 'previousClose': 123.23,\n",
       " 'regularMarketOpen': 123.04,\n",
       " 'twoHundredDayAverage': 116.6998,\n",
       " 'trailingAnnualDividendYield': 0,\n",
       " 'payoutRatio': 0,\n",
       " 'volume24Hr': None,\n",
       " 'regularMarketDayHigh': 125.66,\n",
       " 'navPrice': None,\n",
       " 'averageDailyVolume10Day': 102167370,\n",
       " 'regularMarketPreviousClose': 123.23,\n",
       " 'fiftyDayAverage': 115.95,\n",
       " 'trailingAnnualDividendRate': 0,\n",
       " 'open': 123.04,\n",
       " 'toCurrency': None,\n",
       " 'averageVolume10days': 102167370,\n",
       " 'expireDate': None,\n",
       " 'algorithm': None,\n",
       " 'dividendRate': None,\n",
       " 'exDividendDate': 798940800,\n",
       " 'circulatingSupply': None,\n",
       " 'startDate': None,\n",
       " 'regularMarketDayLow': 118.59,\n",
       " 'currency': 'USD',\n",
       " 'trailingPE': 46.389107,\n",
       " 'regularMarketVolume': 99476946,\n",
       " 'lastMarket': None,\n",
       " 'maxSupply': None,\n",
       " 'openInterest': None,\n",
       " 'marketCap': 194013855744,\n",
       " 'volumeAllCurrencies': None,\n",
       " 'strikePrice': None,\n",
       " 'averageVolume': 102428813,\n",
       " 'dayLow': 118.59,\n",
       " 'ask': 117.24,\n",
       " 'askSize': 1100,\n",
       " 'volume': 99476946,\n",
       " 'fiftyTwoWeekHigh': 164.46,\n",
       " 'fromCurrency': None,\n",
       " 'fiveYearAvgDividendYield': None,\n",
       " 'fiftyTwoWeekLow': 72.5,\n",
       " 'bid': 117.24,\n",
       " 'tradeable': False,\n",
       " 'dividendYield': None,\n",
       " 'bidSize': 900,\n",
       " 'dayHigh': 125.66,\n",
       " 'regularMarketPrice': 119.22,\n",
       " 'preMarketPrice': 116.98,\n",
       " 'logo_url': 'https://logo.clearbit.com/amd.com'}"
      ]
     },
     "execution_count": 15,
     "metadata": {},
     "output_type": "execute_result"
    }
   ],
   "source": [
    "import json\n",
    "with open('amd.json') as json_file:\n",
    "    amd_info = json.load(json_file)\n",
    "    # Print the type of data variable    \n",
    "    #print(\"Type:\", type(apple_info))\n",
    "amd_info"
   ]
  },
  {
   "cell_type": "markdown",
   "metadata": {},
   "source": [
    "<b>Question 1</b> Use the key  <code>'country'</code> to find the country the stock belongs to, remember it as it will be a quiz question.\n"
   ]
  },
  {
   "cell_type": "code",
   "execution_count": 16,
   "metadata": {},
   "outputs": [
    {
     "data": {
      "text/plain": [
       "'United States'"
      ]
     },
     "execution_count": 16,
     "metadata": {},
     "output_type": "execute_result"
    }
   ],
   "source": [
    "amd_info['country']"
   ]
  },
  {
   "cell_type": "markdown",
   "metadata": {},
   "source": [
    "<b>Question 2</b> Use the key  <code>'sector'</code> to find the sector the stock belongs to, remember it as it will be a quiz question.\n"
   ]
  },
  {
   "cell_type": "code",
   "execution_count": 17,
   "metadata": {},
   "outputs": [
    {
     "data": {
      "text/plain": [
       "'Technology'"
      ]
     },
     "execution_count": 17,
     "metadata": {},
     "output_type": "execute_result"
    }
   ],
   "source": [
    "amd_info['sector']"
   ]
  },
  {
   "cell_type": "markdown",
   "metadata": {},
   "source": [
    "<b>Question 3</b> Obtain stock data for AMD using the `history` function, set the `period` to max. Find the `Volume` traded on the first day (first row).\n"
   ]
  },
  {
   "cell_type": "code",
   "execution_count": 21,
   "metadata": {
    "tags": []
   },
   "outputs": [
    {
     "data": {
      "text/html": [
       "<div>\n",
       "<style scoped>\n",
       "    .dataframe tbody tr th:only-of-type {\n",
       "        vertical-align: middle;\n",
       "    }\n",
       "\n",
       "    .dataframe tbody tr th {\n",
       "        vertical-align: top;\n",
       "    }\n",
       "\n",
       "    .dataframe thead th {\n",
       "        text-align: right;\n",
       "    }\n",
       "</style>\n",
       "<table border=\"1\" class=\"dataframe\">\n",
       "  <thead>\n",
       "    <tr style=\"text-align: right;\">\n",
       "      <th></th>\n",
       "      <th>Open</th>\n",
       "      <th>High</th>\n",
       "      <th>Low</th>\n",
       "      <th>Close</th>\n",
       "      <th>Volume</th>\n",
       "      <th>Dividends</th>\n",
       "      <th>Stock Splits</th>\n",
       "    </tr>\n",
       "    <tr>\n",
       "      <th>Date</th>\n",
       "      <th></th>\n",
       "      <th></th>\n",
       "      <th></th>\n",
       "      <th></th>\n",
       "      <th></th>\n",
       "      <th></th>\n",
       "      <th></th>\n",
       "    </tr>\n",
       "  </thead>\n",
       "  <tbody>\n",
       "    <tr>\n",
       "      <th>1980-03-17 00:00:00-05:00</th>\n",
       "      <td>0.0</td>\n",
       "      <td>3.302083</td>\n",
       "      <td>3.125000</td>\n",
       "      <td>3.145833</td>\n",
       "      <td>219600</td>\n",
       "      <td>0.0</td>\n",
       "      <td>0.0</td>\n",
       "    </tr>\n",
       "    <tr>\n",
       "      <th>1980-03-18 00:00:00-05:00</th>\n",
       "      <td>0.0</td>\n",
       "      <td>3.125000</td>\n",
       "      <td>2.937500</td>\n",
       "      <td>3.031250</td>\n",
       "      <td>727200</td>\n",
       "      <td>0.0</td>\n",
       "      <td>0.0</td>\n",
       "    </tr>\n",
       "    <tr>\n",
       "      <th>1980-03-19 00:00:00-05:00</th>\n",
       "      <td>0.0</td>\n",
       "      <td>3.083333</td>\n",
       "      <td>3.020833</td>\n",
       "      <td>3.041667</td>\n",
       "      <td>295200</td>\n",
       "      <td>0.0</td>\n",
       "      <td>0.0</td>\n",
       "    </tr>\n",
       "    <tr>\n",
       "      <th>1980-03-20 00:00:00-05:00</th>\n",
       "      <td>0.0</td>\n",
       "      <td>3.062500</td>\n",
       "      <td>3.010417</td>\n",
       "      <td>3.010417</td>\n",
       "      <td>159600</td>\n",
       "      <td>0.0</td>\n",
       "      <td>0.0</td>\n",
       "    </tr>\n",
       "    <tr>\n",
       "      <th>1980-03-21 00:00:00-05:00</th>\n",
       "      <td>0.0</td>\n",
       "      <td>3.020833</td>\n",
       "      <td>2.906250</td>\n",
       "      <td>2.916667</td>\n",
       "      <td>130800</td>\n",
       "      <td>0.0</td>\n",
       "      <td>0.0</td>\n",
       "    </tr>\n",
       "  </tbody>\n",
       "</table>\n",
       "</div>"
      ],
      "text/plain": [
       "                           Open      High       Low     Close  Volume  \\\n",
       "Date                                                                    \n",
       "1980-03-17 00:00:00-05:00   0.0  3.302083  3.125000  3.145833  219600   \n",
       "1980-03-18 00:00:00-05:00   0.0  3.125000  2.937500  3.031250  727200   \n",
       "1980-03-19 00:00:00-05:00   0.0  3.083333  3.020833  3.041667  295200   \n",
       "1980-03-20 00:00:00-05:00   0.0  3.062500  3.010417  3.010417  159600   \n",
       "1980-03-21 00:00:00-05:00   0.0  3.020833  2.906250  2.916667  130800   \n",
       "\n",
       "                           Dividends  Stock Splits  \n",
       "Date                                                \n",
       "1980-03-17 00:00:00-05:00        0.0           0.0  \n",
       "1980-03-18 00:00:00-05:00        0.0           0.0  \n",
       "1980-03-19 00:00:00-05:00        0.0           0.0  \n",
       "1980-03-20 00:00:00-05:00        0.0           0.0  \n",
       "1980-03-21 00:00:00-05:00        0.0           0.0  "
      ]
     },
     "execution_count": 21,
     "metadata": {},
     "output_type": "execute_result"
    }
   ],
   "source": [
    "amd_data_info =  amd.history(period=\"max\")\n",
    "amd_data_info.head()"
   ]
  },
  {
   "cell_type": "code",
   "execution_count": 23,
   "metadata": {
    "tags": []
   },
   "outputs": [
    {
     "data": {
      "text/plain": [
       "<AxesSubplot:xlabel='Date'>"
      ]
     },
     "execution_count": 23,
     "metadata": {},
     "output_type": "execute_result"
    },
    {
     "data": {
      "image/png": "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\n",
      "text/plain": [
       "<Figure size 640x480 with 1 Axes>"
      ]
     },
     "metadata": {},
     "output_type": "display_data"
    }
   ],
   "source": [
    "amd_data_info.reset_index(inplace=True)\n",
    "amd_data_info.plot(x=\"Date\", y=\"Volume\")"
   ]
  },
  {
   "cell_type": "markdown",
   "metadata": {},
   "source": [
    "<h2>About the Authors:</h2> \n",
    "\n",
    "<a href=\"https://www.linkedin.com/in/joseph-s-50398b136/?utm_medium=Exinfluencer&utm_source=Exinfluencer&utm_content=000026UJ&utm_term=10006555&utm_id=NA-SkillsNetwork-Channel-SkillsNetworkCoursesIBMDeveloperSkillsNetworkPY0220ENSkillsNetwork900-2022-01-01\">Joseph Santarcangelo</a> has a PhD in Electrical Engineering, his research focused on using machine learning, signal processing, and computer vision to determine how videos impact human cognition. Joseph has been working for IBM since he completed his PhD.\n",
    "\n",
    "Azim Hirjani\n"
   ]
  },
  {
   "cell_type": "markdown",
   "metadata": {},
   "source": [
    "## Change Log\n",
    "\n",
    "| Date (YYYY-MM-DD) | Version | Changed By    | Change Description        |\n",
    "| ----------------- | ------- | ------------- | ------------------------- |\n",
    "| 2020-11-10        | 1.1     | Malika Singla | Deleted the Optional part |\n",
    "| 2020-08-27        | 1.0     | Malika Singla | Added lab to GitLab       |\n",
    "\n",
    "<hr>\n",
    "\n",
    "## <h3 align=\"center\"> © IBM Corporation 2020. All rights reserved. <h3/>\n",
    "\n",
    "<p>\n"
   ]
  }
 ],
 "metadata": {
  "kernelspec": {
   "display_name": "Python",
   "language": "python",
   "name": "conda-env-python-py"
  },
  "language_info": {
   "codemirror_mode": {
    "name": "ipython",
    "version": 3
   },
   "file_extension": ".py",
   "mimetype": "text/x-python",
   "name": "python",
   "nbconvert_exporter": "python",
   "pygments_lexer": "ipython3",
   "version": "3.7.12"
  }
 },
 "nbformat": 4,
 "nbformat_minor": 4
}
